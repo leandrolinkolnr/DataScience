{
 "cells": [
  {
   "cell_type": "markdown",
   "id": "31eb262c",
   "metadata": {},
   "source": [
    "# Discretização\n",
    "- **Transforma valores contínuos em dados categorizados**\n",
    "    "
   ]
  },
  {
   "cell_type": "code",
   "execution_count": 1,
   "id": "56dc43ee",
   "metadata": {},
   "outputs": [],
   "source": [
    "# Importando o pandas\n",
    "import pandas as pd"
   ]
  },
  {
   "cell_type": "code",
   "execution_count": 2,
   "id": "f943829c",
   "metadata": {},
   "outputs": [
    {
     "data": {
      "text/html": [
       "<div>\n",
       "<style scoped>\n",
       "    .dataframe tbody tr th:only-of-type {\n",
       "        vertical-align: middle;\n",
       "    }\n",
       "\n",
       "    .dataframe tbody tr th {\n",
       "        vertical-align: top;\n",
       "    }\n",
       "\n",
       "    .dataframe thead th {\n",
       "        text-align: right;\n",
       "    }\n",
       "</style>\n",
       "<table border=\"1\" class=\"dataframe\">\n",
       "  <thead>\n",
       "    <tr style=\"text-align: right;\">\n",
       "      <th></th>\n",
       "      <th>Survived</th>\n",
       "      <th>Pclass</th>\n",
       "      <th>Sex</th>\n",
       "      <th>Age</th>\n",
       "      <th>SibSp</th>\n",
       "      <th>Parch</th>\n",
       "      <th>Fare</th>\n",
       "      <th>Embarked</th>\n",
       "      <th>Titulos</th>\n",
       "    </tr>\n",
       "  </thead>\n",
       "  <tbody>\n",
       "    <tr>\n",
       "      <th>0</th>\n",
       "      <td>0</td>\n",
       "      <td>3</td>\n",
       "      <td>male</td>\n",
       "      <td>22.0</td>\n",
       "      <td>1</td>\n",
       "      <td>0</td>\n",
       "      <td>7.2500</td>\n",
       "      <td>S</td>\n",
       "      <td>Mr</td>\n",
       "    </tr>\n",
       "    <tr>\n",
       "      <th>1</th>\n",
       "      <td>1</td>\n",
       "      <td>1</td>\n",
       "      <td>female</td>\n",
       "      <td>38.0</td>\n",
       "      <td>1</td>\n",
       "      <td>0</td>\n",
       "      <td>71.2833</td>\n",
       "      <td>C</td>\n",
       "      <td>Mrs</td>\n",
       "    </tr>\n",
       "  </tbody>\n",
       "</table>\n",
       "</div>"
      ],
      "text/plain": [
       "   Survived  Pclass     Sex   Age  SibSp  Parch     Fare Embarked Titulos\n",
       "0         0       3    male  22.0      1      0   7.2500        S      Mr\n",
       "1         1       1  female  38.0      1      0  71.2833        C     Mrs"
      ]
     },
     "execution_count": 2,
     "metadata": {},
     "output_type": "execute_result"
    }
   ],
   "source": [
    "# Importando e visualoizando os dados\n",
    "titanic = pd.read_csv('train2.csv')\n",
    "titanic.head(2)"
   ]
  },
  {
   "cell_type": "markdown",
   "id": "6493be76",
   "metadata": {},
   "source": [
    "# KBinsDiscretizer\n",
    "\n",
    "####  n_bins = Em quantas categorias vai dividir\n",
    "#### Encode: Especifica como os bins são codificados após a transformação:\n",
    "\n",
    "- \"Onehot\": Cria uma coluna para cada categoria e informa se ele pertence ou nao aquela categoria (0, 1)\n",
    "- \"Ordinal\": Codifica os bins como números inteiros sequenciais\n",
    "\n",
    "#### Strategy: A estratégia utilizada para definir os limites dos bins. \n",
    "- \"Uniform\": Todos os bins têm o mesmo tamanho. Se for de 0 a 200, 4 divisões = 50 para cada (Independente da distribuição, o que pode ter intervalores sem nenhum dados, podendo prejudicar a visualização em grafico por exemplo)\n",
    "- \"Quantile\": Os bins têm a mesma quantidade de dados, ou seja, eles são definidos pelos quantis dos dados, garantindo que cada bin tenha aproximadamente o mesmo número de amostras\n",
    "- \"kmeans\": Os bins são definidos usando o algoritmo K-Means, onde os centroides dos clusters são usados como limites dos bins.\n"
   ]
  },
  {
   "cell_type": "code",
   "execution_count": 3,
   "id": "d0c6f4db",
   "metadata": {},
   "outputs": [],
   "source": [
    "from sklearn.preprocessing import KBinsDiscretizer"
   ]
  },
  {
   "cell_type": "code",
   "execution_count": 45,
   "id": "2f79e79d",
   "metadata": {},
   "outputs": [],
   "source": [
    "est = KBinsDiscretizer(n_bins=4, encode='ordinal', strategy='quantile')"
   ]
  },
  {
   "cell_type": "markdown",
   "id": "3a6e61c9",
   "metadata": {},
   "source": [
    "### Fazendo fit e transformando os dados"
   ]
  },
  {
   "cell_type": "code",
   "execution_count": 46,
   "id": "d23adac2",
   "metadata": {},
   "outputs": [],
   "source": [
    "est = est.fit(titanic[['Fare']])\n",
    "titanic['Fare_disc'] = est.transform(titanic[['Fare']])"
   ]
  },
  {
   "cell_type": "markdown",
   "id": "f8e43f04",
   "metadata": {},
   "source": [
    "### Visualizando os dados gerados"
   ]
  },
  {
   "cell_type": "code",
   "execution_count": 58,
   "id": "db567543",
   "metadata": {},
   "outputs": [
    {
     "data": {
      "text/plain": [
       "Fare_disc\n",
       "0.0    223\n",
       "1.0    217\n",
       "2.0    226\n",
       "3.0    225\n",
       "Name: count, dtype: int64"
      ]
     },
     "execution_count": 58,
     "metadata": {},
     "output_type": "execute_result"
    }
   ],
   "source": [
    "titanic.Fare_disc.value_counts().sort_index() # Em ordem"
   ]
  },
  {
   "cell_type": "markdown",
   "id": "3a54e74f",
   "metadata": {},
   "source": [
    "### Visualizando em detalhes as copntagens de cada intervalo"
   ]
  },
  {
   "cell_type": "code",
   "execution_count": 48,
   "id": "55629a6b",
   "metadata": {},
   "outputs": [
    {
     "data": {
      "text/html": [
       "<div>\n",
       "<style scoped>\n",
       "    .dataframe tbody tr th:only-of-type {\n",
       "        vertical-align: middle;\n",
       "    }\n",
       "\n",
       "    .dataframe tbody tr th {\n",
       "        vertical-align: top;\n",
       "    }\n",
       "\n",
       "    .dataframe thead th {\n",
       "        text-align: right;\n",
       "    }\n",
       "</style>\n",
       "<table border=\"1\" class=\"dataframe\">\n",
       "  <thead>\n",
       "    <tr style=\"text-align: right;\">\n",
       "      <th></th>\n",
       "      <th>Fare_disc</th>\n",
       "      <th>min</th>\n",
       "      <th>max</th>\n",
       "      <th>count</th>\n",
       "    </tr>\n",
       "  </thead>\n",
       "  <tbody>\n",
       "    <tr>\n",
       "      <th>0</th>\n",
       "      <td>0.0</td>\n",
       "      <td>0.0000</td>\n",
       "      <td>7.8958</td>\n",
       "      <td>223</td>\n",
       "    </tr>\n",
       "    <tr>\n",
       "      <th>1</th>\n",
       "      <td>1.0</td>\n",
       "      <td>7.9250</td>\n",
       "      <td>14.4000</td>\n",
       "      <td>217</td>\n",
       "    </tr>\n",
       "    <tr>\n",
       "      <th>2</th>\n",
       "      <td>2.0</td>\n",
       "      <td>14.4542</td>\n",
       "      <td>30.6958</td>\n",
       "      <td>226</td>\n",
       "    </tr>\n",
       "    <tr>\n",
       "      <th>3</th>\n",
       "      <td>3.0</td>\n",
       "      <td>31.0000</td>\n",
       "      <td>512.3292</td>\n",
       "      <td>225</td>\n",
       "    </tr>\n",
       "  </tbody>\n",
       "</table>\n",
       "</div>"
      ],
      "text/plain": [
       "   Fare_disc      min       max  count\n",
       "0        0.0   0.0000    7.8958    223\n",
       "1        1.0   7.9250   14.4000    217\n",
       "2        2.0  14.4542   30.6958    226\n",
       "3        3.0  31.0000  512.3292    225"
      ]
     },
     "execution_count": 48,
     "metadata": {},
     "output_type": "execute_result"
    }
   ],
   "source": [
    "grupos = titanic.groupby('Fare_disc')['Fare'].agg(['min','max','count']).reset_index()\n",
    "grupos"
   ]
  },
  {
   "cell_type": "markdown",
   "id": "bcd6df6c",
   "metadata": {},
   "source": [
    "### Podemos utilizar o bin_edges para verificar os limites das categorias"
   ]
  },
  {
   "cell_type": "code",
   "execution_count": 53,
   "id": "d28b8168",
   "metadata": {},
   "outputs": [
    {
     "data": {
      "text/plain": [
       "array([  0.    ,   7.9104,  14.4542,  31.    , 512.3292])"
      ]
     },
     "execution_count": 53,
     "metadata": {},
     "output_type": "execute_result"
    }
   ],
   "source": [
    "est.bin_edges_[0][:5] ### Filtrando so os numeros"
   ]
  },
  {
   "cell_type": "markdown",
   "id": "c371d2bb",
   "metadata": {},
   "source": [
    "# Binarização\n",
    "- **Transforma os dados em binários** (0 - se for menor ou igual e u 1 se o  valor for maior que o limite passado) \n",
    "    - **`threshold`**: limite usado para classificação dos valores\n",
    "- **Podemos fazer a binarização para determinar se as pessoas estavam viajando sozinhas ou acompanhadas\n",
    "    "
   ]
  },
  {
   "cell_type": "code",
   "execution_count": 62,
   "id": "0a425cd5",
   "metadata": {},
   "outputs": [],
   "source": [
    "from sklearn.preprocessing import Binarizer"
   ]
  },
  {
   "cell_type": "markdown",
   "id": "a8a8b5f8",
   "metadata": {},
   "source": [
    "### Visualizando os valores de Parch"
   ]
  },
  {
   "cell_type": "code",
   "execution_count": 63,
   "id": "8c025be4",
   "metadata": {},
   "outputs": [
    {
     "data": {
      "text/plain": [
       "Parch\n",
       "0    678\n",
       "1    118\n",
       "2     80\n",
       "5      5\n",
       "3      5\n",
       "4      4\n",
       "6      1\n",
       "Name: count, dtype: int64"
      ]
     },
     "execution_count": 63,
     "metadata": {},
     "output_type": "execute_result"
    }
   ],
   "source": [
    "titanic[\"Parch\"].value_counts()"
   ]
  },
  {
   "cell_type": "markdown",
   "id": "b2659189",
   "metadata": {},
   "source": [
    "### Instanciando e fazendo fit"
   ]
  },
  {
   "cell_type": "code",
   "execution_count": 68,
   "id": "e6761f68",
   "metadata": {},
   "outputs": [],
   "source": [
    "binari = Binarizer(threshold=0.5)\n",
    "binari = binari.fit(titanic[['Parch']])"
   ]
  },
  {
   "cell_type": "markdown",
   "id": "04470f17",
   "metadata": {},
   "source": [
    "### Fazendo a transformação"
   ]
  },
  {
   "cell_type": "code",
   "execution_count": 69,
   "id": "bb736fce",
   "metadata": {},
   "outputs": [],
   "source": [
    "titanic['Viagem_so'] = binari.transform(titanic[['Parch']])"
   ]
  },
  {
   "cell_type": "markdown",
   "id": "fc7840e0",
   "metadata": {},
   "source": [
    "### Visualizando resultado"
   ]
  },
  {
   "cell_type": "code",
   "execution_count": 70,
   "id": "146caf3c",
   "metadata": {},
   "outputs": [
    {
     "data": {
      "text/plain": [
       "Parch  Viagem_so\n",
       "0      0            678\n",
       "1      1            118\n",
       "2      1             80\n",
       "3      1              5\n",
       "5      1              5\n",
       "4      1              4\n",
       "6      1              1\n",
       "Name: count, dtype: int64"
      ]
     },
     "execution_count": 70,
     "metadata": {},
     "output_type": "execute_result"
    }
   ],
   "source": [
    "titanic[['Parch','Viagem_so']].value_counts()"
   ]
  },
  {
   "cell_type": "code",
   "execution_count": null,
   "id": "72ed745b",
   "metadata": {},
   "outputs": [],
   "source": []
  }
 ],
 "metadata": {
  "kernelspec": {
   "display_name": "Python 3 (ipykernel)",
   "language": "python",
   "name": "python3"
  },
  "language_info": {
   "codemirror_mode": {
    "name": "ipython",
    "version": 3
   },
   "file_extension": ".py",
   "mimetype": "text/x-python",
   "name": "python",
   "nbconvert_exporter": "python",
   "pygments_lexer": "ipython3",
   "version": "3.11.5"
  }
 },
 "nbformat": 4,
 "nbformat_minor": 5
}
