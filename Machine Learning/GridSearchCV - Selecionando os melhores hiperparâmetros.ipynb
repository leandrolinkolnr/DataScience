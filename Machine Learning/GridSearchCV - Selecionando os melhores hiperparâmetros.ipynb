{
 "cells": [
  {
   "cell_type": "markdown",
   "id": "ce8d5acf",
   "metadata": {},
   "source": [
    "# Utilizando GridSearchCV para selecionar os melhores parametros"
   ]
  },
  {
   "cell_type": "code",
   "execution_count": 1,
   "id": "2d76471c",
   "metadata": {},
   "outputs": [],
   "source": [
    "import pandas as pd\n",
    "from sklearn.model_selection import train_test_split\n",
    "from sklearn.linear_model import LogisticRegression\n",
    "from sklearn.metrics import confusion_matrix, recall_score, precision_score"
   ]
  },
  {
   "cell_type": "code",
   "execution_count": 2,
   "id": "ca2cacc4",
   "metadata": {},
   "outputs": [],
   "source": [
    "transacoes = pd.read_csv('creditcard.csv')"
   ]
  },
  {
   "cell_type": "markdown",
   "id": "e6ba5867",
   "metadata": {},
   "source": [
    "### Seprando X e Y"
   ]
  },
  {
   "cell_type": "code",
   "execution_count": 3,
   "id": "d7202ed0",
   "metadata": {},
   "outputs": [],
   "source": [
    "X = transacoes.drop('Class',axis=1)\n",
    "y = transacoes.Class"
   ]
  },
  {
   "cell_type": "code",
   "execution_count": 4,
   "id": "7e2d2252",
   "metadata": {},
   "outputs": [],
   "source": [
    "# Retirando temporariamente os warnings do nosso código\n",
    "import warnings\n",
    "warnings.filterwarnings('ignore')"
   ]
  },
  {
   "cell_type": "markdown",
   "id": "980d1b20",
   "metadata": {},
   "source": [
    "### Treino e teste"
   ]
  },
  {
   "cell_type": "code",
   "execution_count": 5,
   "id": "3ae6de30",
   "metadata": {},
   "outputs": [],
   "source": [
    "X_train, X_test, y_train, y_test = train_test_split(X, y, test_size=0.3, random_state=0, stratify=y)"
   ]
  },
  {
   "cell_type": "markdown",
   "id": "d3ab2d66",
   "metadata": {},
   "source": [
    "# Podemos ajustar manualmente os hiperparametros para nosso modelo\n",
    "\n",
    "Faremos um for para testar cada parametro do nosso modelo e selecionar os melhores\n",
    "\n",
    "Testando 'newton-cg','lbfgs','liblinear' para o parametro SOLVER e os valores [1,100,1000] para C"
   ]
  },
  {
   "cell_type": "code",
   "execution_count": null,
   "id": "1f09f5f0",
   "metadata": {},
   "outputs": [],
   "source": []
  },
  {
   "cell_type": "code",
   "execution_count": 6,
   "id": "7d33a5f3",
   "metadata": {},
   "outputs": [
    {
     "name": "stdout",
     "output_type": "stream",
     "text": [
      "1 newton-cg 0.6086956521739131\n",
      "1 lbfgs 0.6666666666666666\n",
      "1 liblinear 0.6376811594202898\n",
      "100 newton-cg 0.6086956521739131\n",
      "100 lbfgs 0.7246376811594203\n",
      "100 liblinear 0.6376811594202898\n",
      "1000 newton-cg 0.6086956521739131\n",
      "1000 lbfgs 0.6956521739130435\n",
      "1000 liblinear 0.6376811594202898\n"
     ]
    }
   ],
   "source": [
    "# Treino e teste\n",
    "X_train2, X_valid, y_train2, y_valid = train_test_split(X_train, y_train, test_size=0.2, random_state=0, stratify=y_train)\n",
    "\n",
    "\n",
    "# Parametros\n",
    "C = [1,100,1000]\n",
    "solver = ['newton-cg','lbfgs','liblinear']\n",
    "\n",
    "\n",
    "# For para testar cada parametro\n",
    "for i in C:\n",
    "    for j in solver:\n",
    "        clf_RL3 = LogisticRegression(random_state=42,\n",
    "                                solver=j,C=i\n",
    "                                ).fit(X_train2, y_train2)\n",
    "        y_pred_RL3 = clf_RL3.predict(X_valid)\n",
    "        print(i,j,recall_score(y_valid,y_pred_RL3))"
   ]
  },
  {
   "cell_type": "code",
   "execution_count": null,
   "id": "fe112fa3",
   "metadata": {},
   "outputs": [],
   "source": []
  },
  {
   "cell_type": "code",
   "execution_count": null,
   "id": "c9dea87d",
   "metadata": {},
   "outputs": [],
   "source": []
  },
  {
   "cell_type": "code",
   "execution_count": null,
   "id": "2d84e2af",
   "metadata": {},
   "outputs": [],
   "source": []
  },
  {
   "cell_type": "markdown",
   "id": "556769bf",
   "metadata": {},
   "source": [
    "# Podemos automatizar essa seleção utilizando o `GridSearchCV`"
   ]
  },
  {
   "cell_type": "code",
   "execution_count": 7,
   "id": "fb792ab0",
   "metadata": {},
   "outputs": [],
   "source": [
    "from sklearn.model_selection import GridSearchCV"
   ]
  },
  {
   "cell_type": "markdown",
   "id": "5108c025",
   "metadata": {},
   "source": [
    "### Definindo os parâmetros que queremos testar"
   ]
  },
  {
   "cell_type": "code",
   "execution_count": 11,
   "id": "17f76d80",
   "metadata": {},
   "outputs": [],
   "source": [
    "parametros = {\n",
    "    'C': [1,100,1000],\n",
    "    'solver': ['newton-cg','lbfgs','liblinear'],\n",
    "}"
   ]
  },
  {
   "cell_type": "markdown",
   "id": "d5a3eac1",
   "metadata": {},
   "source": [
    "### Selecionando o modelo: Regressão Logística "
   ]
  },
  {
   "cell_type": "code",
   "execution_count": 12,
   "id": "b8c12efa",
   "metadata": {},
   "outputs": [],
   "source": [
    "LogReg = LogisticRegression(random_state=42)"
   ]
  },
  {
   "cell_type": "markdown",
   "id": "29a22a9a",
   "metadata": {},
   "source": [
    "### Criando um novo classificador usando os parâmetros que escolhemos anteriormente"
   ]
  },
  {
   "cell_type": "code",
   "execution_count": 13,
   "id": "9005f090",
   "metadata": {},
   "outputs": [],
   "source": [
    "clf_GS = GridSearchCV(LogReg, parametros,\n",
    "                     scoring='recall')"
   ]
  },
  {
   "cell_type": "markdown",
   "id": "81deb5c2",
   "metadata": {},
   "source": [
    "### Fazendo o fit "
   ]
  },
  {
   "cell_type": "code",
   "execution_count": 14,
   "id": "65608faa",
   "metadata": {},
   "outputs": [],
   "source": [
    "clf_GS = clf_GS.fit(X,y)"
   ]
  },
  {
   "cell_type": "markdown",
   "id": "e739b4ca",
   "metadata": {},
   "source": [
    "## Visualizando os melhores parâmetros definidos pelo GridSearchCV"
   ]
  },
  {
   "cell_type": "code",
   "execution_count": 15,
   "id": "2dd7f8d1",
   "metadata": {},
   "outputs": [
    {
     "data": {
      "text/plain": [
       "{'C': 100, 'solver': 'lbfgs'}"
      ]
     },
     "execution_count": 15,
     "metadata": {},
     "output_type": "execute_result"
    }
   ],
   "source": [
    " clf_GS.best_params_"
   ]
  },
  {
   "cell_type": "markdown",
   "id": "4ca7cddc",
   "metadata": {},
   "source": [
    "## Usando esse modelo para fazer as previsões"
   ]
  },
  {
   "cell_type": "code",
   "execution_count": 16,
   "id": "e75f1270",
   "metadata": {},
   "outputs": [],
   "source": [
    "y_pred_GS = clf_GS.predict(X_test)"
   ]
  },
  {
   "cell_type": "markdown",
   "id": "e9662216",
   "metadata": {},
   "source": [
    "## Analisando atraves das metricas"
   ]
  },
  {
   "cell_type": "code",
   "execution_count": 17,
   "id": "94895d26",
   "metadata": {},
   "outputs": [
    {
     "data": {
      "text/plain": [
       "array([[85248,    47],\n",
       "       [   46,   102]], dtype=int64)"
      ]
     },
     "execution_count": 17,
     "metadata": {},
     "output_type": "execute_result"
    }
   ],
   "source": [
    "# Matriz de confusão\n",
    "confusion_matrix(y_test,y_pred_GS)"
   ]
  },
  {
   "cell_type": "code",
   "execution_count": 18,
   "id": "e6607608",
   "metadata": {},
   "outputs": [
    {
     "data": {
      "text/plain": [
       "0.6891891891891891"
      ]
     },
     "execution_count": 18,
     "metadata": {},
     "output_type": "execute_result"
    }
   ],
   "source": [
    "# Recall\n",
    "recall_score(y_test,y_pred_GS)"
   ]
  },
  {
   "cell_type": "code",
   "execution_count": 19,
   "id": "a512472a",
   "metadata": {},
   "outputs": [
    {
     "data": {
      "text/plain": [
       "0.6845637583892618"
      ]
     },
     "execution_count": 19,
     "metadata": {},
     "output_type": "execute_result"
    }
   ],
   "source": [
    "# Precisão\n",
    "precision_score(y_test,y_pred_GS)"
   ]
  },
  {
   "cell_type": "code",
   "execution_count": null,
   "id": "15781c38",
   "metadata": {},
   "outputs": [],
   "source": []
  },
  {
   "cell_type": "markdown",
   "id": "fb153da2",
   "metadata": {},
   "source": [
    "## Podemos tambem visualizar tudo que foi feito"
   ]
  },
  {
   "cell_type": "code",
   "execution_count": 20,
   "id": "2ebcc7fe",
   "metadata": {},
   "outputs": [
    {
     "data": {
      "text/html": [
       "<div>\n",
       "<style scoped>\n",
       "    .dataframe tbody tr th:only-of-type {\n",
       "        vertical-align: middle;\n",
       "    }\n",
       "\n",
       "    .dataframe tbody tr th {\n",
       "        vertical-align: top;\n",
       "    }\n",
       "\n",
       "    .dataframe thead th {\n",
       "        text-align: right;\n",
       "    }\n",
       "</style>\n",
       "<table border=\"1\" class=\"dataframe\">\n",
       "  <thead>\n",
       "    <tr style=\"text-align: right;\">\n",
       "      <th></th>\n",
       "      <th>mean_fit_time</th>\n",
       "      <th>std_fit_time</th>\n",
       "      <th>mean_score_time</th>\n",
       "      <th>std_score_time</th>\n",
       "      <th>param_C</th>\n",
       "      <th>param_solver</th>\n",
       "      <th>params</th>\n",
       "      <th>split0_test_score</th>\n",
       "      <th>split1_test_score</th>\n",
       "      <th>split2_test_score</th>\n",
       "      <th>split3_test_score</th>\n",
       "      <th>split4_test_score</th>\n",
       "      <th>mean_test_score</th>\n",
       "      <th>std_test_score</th>\n",
       "      <th>rank_test_score</th>\n",
       "    </tr>\n",
       "  </thead>\n",
       "  <tbody>\n",
       "    <tr>\n",
       "      <th>0</th>\n",
       "      <td>24.164760</td>\n",
       "      <td>4.142462</td>\n",
       "      <td>0.020953</td>\n",
       "      <td>0.005710</td>\n",
       "      <td>1</td>\n",
       "      <td>newton-cg</td>\n",
       "      <td>{'C': 1, 'solver': 'newton-cg'}</td>\n",
       "      <td>0.797980</td>\n",
       "      <td>0.636364</td>\n",
       "      <td>0.428571</td>\n",
       "      <td>0.673469</td>\n",
       "      <td>0.459184</td>\n",
       "      <td>0.599114</td>\n",
       "      <td>0.137934</td>\n",
       "      <td>7</td>\n",
       "    </tr>\n",
       "    <tr>\n",
       "      <th>1</th>\n",
       "      <td>3.377363</td>\n",
       "      <td>0.169473</td>\n",
       "      <td>0.024169</td>\n",
       "      <td>0.002716</td>\n",
       "      <td>1</td>\n",
       "      <td>lbfgs</td>\n",
       "      <td>{'C': 1, 'solver': 'lbfgs'}</td>\n",
       "      <td>0.959596</td>\n",
       "      <td>0.828283</td>\n",
       "      <td>0.581633</td>\n",
       "      <td>0.612245</td>\n",
       "      <td>0.153061</td>\n",
       "      <td>0.626964</td>\n",
       "      <td>0.274965</td>\n",
       "      <td>3</td>\n",
       "    </tr>\n",
       "    <tr>\n",
       "      <th>2</th>\n",
       "      <td>3.361018</td>\n",
       "      <td>0.846935</td>\n",
       "      <td>0.021702</td>\n",
       "      <td>0.000837</td>\n",
       "      <td>1</td>\n",
       "      <td>liblinear</td>\n",
       "      <td>{'C': 1, 'solver': 'liblinear'}</td>\n",
       "      <td>0.919192</td>\n",
       "      <td>0.767677</td>\n",
       "      <td>0.459184</td>\n",
       "      <td>0.612245</td>\n",
       "      <td>0.234694</td>\n",
       "      <td>0.598598</td>\n",
       "      <td>0.238083</td>\n",
       "      <td>8</td>\n",
       "    </tr>\n",
       "    <tr>\n",
       "      <th>3</th>\n",
       "      <td>23.174236</td>\n",
       "      <td>3.130984</td>\n",
       "      <td>0.022740</td>\n",
       "      <td>0.003754</td>\n",
       "      <td>100</td>\n",
       "      <td>newton-cg</td>\n",
       "      <td>{'C': 100, 'solver': 'newton-cg'}</td>\n",
       "      <td>0.777778</td>\n",
       "      <td>0.636364</td>\n",
       "      <td>0.438776</td>\n",
       "      <td>0.683673</td>\n",
       "      <td>0.469388</td>\n",
       "      <td>0.601196</td>\n",
       "      <td>0.128821</td>\n",
       "      <td>6</td>\n",
       "    </tr>\n",
       "    <tr>\n",
       "      <th>4</th>\n",
       "      <td>4.010283</td>\n",
       "      <td>0.572842</td>\n",
       "      <td>0.027197</td>\n",
       "      <td>0.005364</td>\n",
       "      <td>100</td>\n",
       "      <td>lbfgs</td>\n",
       "      <td>{'C': 100, 'solver': 'lbfgs'}</td>\n",
       "      <td>0.949495</td>\n",
       "      <td>0.818182</td>\n",
       "      <td>0.561224</td>\n",
       "      <td>0.755102</td>\n",
       "      <td>0.316327</td>\n",
       "      <td>0.680066</td>\n",
       "      <td>0.220784</td>\n",
       "      <td>1</td>\n",
       "    </tr>\n",
       "    <tr>\n",
       "      <th>5</th>\n",
       "      <td>5.116999</td>\n",
       "      <td>1.678811</td>\n",
       "      <td>0.032029</td>\n",
       "      <td>0.009592</td>\n",
       "      <td>100</td>\n",
       "      <td>liblinear</td>\n",
       "      <td>{'C': 100, 'solver': 'liblinear'}</td>\n",
       "      <td>0.919192</td>\n",
       "      <td>0.787879</td>\n",
       "      <td>0.448980</td>\n",
       "      <td>0.612245</td>\n",
       "      <td>0.336735</td>\n",
       "      <td>0.621006</td>\n",
       "      <td>0.213186</td>\n",
       "      <td>4</td>\n",
       "    </tr>\n",
       "    <tr>\n",
       "      <th>6</th>\n",
       "      <td>26.855522</td>\n",
       "      <td>4.246666</td>\n",
       "      <td>0.031442</td>\n",
       "      <td>0.013434</td>\n",
       "      <td>1000</td>\n",
       "      <td>newton-cg</td>\n",
       "      <td>{'C': 1000, 'solver': 'newton-cg'}</td>\n",
       "      <td>0.797980</td>\n",
       "      <td>0.636364</td>\n",
       "      <td>0.438776</td>\n",
       "      <td>0.673469</td>\n",
       "      <td>0.469388</td>\n",
       "      <td>0.603195</td>\n",
       "      <td>0.133355</td>\n",
       "      <td>5</td>\n",
       "    </tr>\n",
       "    <tr>\n",
       "      <th>7</th>\n",
       "      <td>3.377253</td>\n",
       "      <td>0.145387</td>\n",
       "      <td>0.024232</td>\n",
       "      <td>0.002844</td>\n",
       "      <td>1000</td>\n",
       "      <td>lbfgs</td>\n",
       "      <td>{'C': 1000, 'solver': 'lbfgs'}</td>\n",
       "      <td>0.959596</td>\n",
       "      <td>0.808081</td>\n",
       "      <td>0.591837</td>\n",
       "      <td>0.622449</td>\n",
       "      <td>0.204082</td>\n",
       "      <td>0.637209</td>\n",
       "      <td>0.254168</td>\n",
       "      <td>2</td>\n",
       "    </tr>\n",
       "    <tr>\n",
       "      <th>8</th>\n",
       "      <td>3.257097</td>\n",
       "      <td>0.552026</td>\n",
       "      <td>0.022652</td>\n",
       "      <td>0.000452</td>\n",
       "      <td>1000</td>\n",
       "      <td>liblinear</td>\n",
       "      <td>{'C': 1000, 'solver': 'liblinear'}</td>\n",
       "      <td>0.919192</td>\n",
       "      <td>0.787879</td>\n",
       "      <td>0.459184</td>\n",
       "      <td>0.612245</td>\n",
       "      <td>0.183673</td>\n",
       "      <td>0.592435</td>\n",
       "      <td>0.256984</td>\n",
       "      <td>9</td>\n",
       "    </tr>\n",
       "  </tbody>\n",
       "</table>\n",
       "</div>"
      ],
      "text/plain": [
       "   mean_fit_time  std_fit_time  mean_score_time  std_score_time param_C  \\\n",
       "0      24.164760      4.142462         0.020953        0.005710       1   \n",
       "1       3.377363      0.169473         0.024169        0.002716       1   \n",
       "2       3.361018      0.846935         0.021702        0.000837       1   \n",
       "3      23.174236      3.130984         0.022740        0.003754     100   \n",
       "4       4.010283      0.572842         0.027197        0.005364     100   \n",
       "5       5.116999      1.678811         0.032029        0.009592     100   \n",
       "6      26.855522      4.246666         0.031442        0.013434    1000   \n",
       "7       3.377253      0.145387         0.024232        0.002844    1000   \n",
       "8       3.257097      0.552026         0.022652        0.000452    1000   \n",
       "\n",
       "  param_solver                              params  split0_test_score  \\\n",
       "0    newton-cg     {'C': 1, 'solver': 'newton-cg'}           0.797980   \n",
       "1        lbfgs         {'C': 1, 'solver': 'lbfgs'}           0.959596   \n",
       "2    liblinear     {'C': 1, 'solver': 'liblinear'}           0.919192   \n",
       "3    newton-cg   {'C': 100, 'solver': 'newton-cg'}           0.777778   \n",
       "4        lbfgs       {'C': 100, 'solver': 'lbfgs'}           0.949495   \n",
       "5    liblinear   {'C': 100, 'solver': 'liblinear'}           0.919192   \n",
       "6    newton-cg  {'C': 1000, 'solver': 'newton-cg'}           0.797980   \n",
       "7        lbfgs      {'C': 1000, 'solver': 'lbfgs'}           0.959596   \n",
       "8    liblinear  {'C': 1000, 'solver': 'liblinear'}           0.919192   \n",
       "\n",
       "   split1_test_score  split2_test_score  split3_test_score  split4_test_score  \\\n",
       "0           0.636364           0.428571           0.673469           0.459184   \n",
       "1           0.828283           0.581633           0.612245           0.153061   \n",
       "2           0.767677           0.459184           0.612245           0.234694   \n",
       "3           0.636364           0.438776           0.683673           0.469388   \n",
       "4           0.818182           0.561224           0.755102           0.316327   \n",
       "5           0.787879           0.448980           0.612245           0.336735   \n",
       "6           0.636364           0.438776           0.673469           0.469388   \n",
       "7           0.808081           0.591837           0.622449           0.204082   \n",
       "8           0.787879           0.459184           0.612245           0.183673   \n",
       "\n",
       "   mean_test_score  std_test_score  rank_test_score  \n",
       "0         0.599114        0.137934                7  \n",
       "1         0.626964        0.274965                3  \n",
       "2         0.598598        0.238083                8  \n",
       "3         0.601196        0.128821                6  \n",
       "4         0.680066        0.220784                1  \n",
       "5         0.621006        0.213186                4  \n",
       "6         0.603195        0.133355                5  \n",
       "7         0.637209        0.254168                2  \n",
       "8         0.592435        0.256984                9  "
      ]
     },
     "execution_count": 20,
     "metadata": {},
     "output_type": "execute_result"
    }
   ],
   "source": [
    "resultados = pd.DataFrame(clf_GS.cv_results_)\n",
    "resultados"
   ]
  }
 ],
 "metadata": {
  "kernelspec": {
   "display_name": "Python 3 (ipykernel)",
   "language": "python",
   "name": "python3"
  },
  "language_info": {
   "codemirror_mode": {
    "name": "ipython",
    "version": 3
   },
   "file_extension": ".py",
   "mimetype": "text/x-python",
   "name": "python",
   "nbconvert_exporter": "python",
   "pygments_lexer": "ipython3",
   "version": "3.11.5"
  }
 },
 "nbformat": 4,
 "nbformat_minor": 5
}
