{
 "cells": [
  {
   "cell_type": "markdown",
   "id": "4fd98d45",
   "metadata": {},
   "source": [
    "# Aprendizado Não Supervisionado\n",
    "\n",
    "### Dataset Iris"
   ]
  },
  {
   "cell_type": "code",
   "execution_count": 1,
   "id": "9a7778f0",
   "metadata": {},
   "outputs": [],
   "source": [
    "import matplotlib.pyplot as plt\n",
    "from sklearn.datasets import load_iris"
   ]
  },
  {
   "cell_type": "markdown",
   "id": "eb075f7a",
   "metadata": {},
   "source": [
    "### Separando X e Y"
   ]
  },
  {
   "cell_type": "code",
   "execution_count": 2,
   "id": "702108ca",
   "metadata": {},
   "outputs": [],
   "source": [
    "X,y = load_iris(return_X_y=True,as_frame=True)"
   ]
  },
  {
   "cell_type": "code",
   "execution_count": 3,
   "id": "7c6a4b3a",
   "metadata": {
    "scrolled": true
   },
   "outputs": [
    {
     "data": {
      "text/html": [
       "<div>\n",
       "<style scoped>\n",
       "    .dataframe tbody tr th:only-of-type {\n",
       "        vertical-align: middle;\n",
       "    }\n",
       "\n",
       "    .dataframe tbody tr th {\n",
       "        vertical-align: top;\n",
       "    }\n",
       "\n",
       "    .dataframe thead th {\n",
       "        text-align: right;\n",
       "    }\n",
       "</style>\n",
       "<table border=\"1\" class=\"dataframe\">\n",
       "  <thead>\n",
       "    <tr style=\"text-align: right;\">\n",
       "      <th></th>\n",
       "      <th>sepal length (cm)</th>\n",
       "      <th>sepal width (cm)</th>\n",
       "      <th>petal length (cm)</th>\n",
       "      <th>petal width (cm)</th>\n",
       "    </tr>\n",
       "  </thead>\n",
       "  <tbody>\n",
       "    <tr>\n",
       "      <th>0</th>\n",
       "      <td>5.1</td>\n",
       "      <td>3.5</td>\n",
       "      <td>1.4</td>\n",
       "      <td>0.2</td>\n",
       "    </tr>\n",
       "    <tr>\n",
       "      <th>1</th>\n",
       "      <td>4.9</td>\n",
       "      <td>3.0</td>\n",
       "      <td>1.4</td>\n",
       "      <td>0.2</td>\n",
       "    </tr>\n",
       "  </tbody>\n",
       "</table>\n",
       "</div>"
      ],
      "text/plain": [
       "   sepal length (cm)  sepal width (cm)  petal length (cm)  petal width (cm)\n",
       "0                5.1               3.5                1.4               0.2\n",
       "1                4.9               3.0                1.4               0.2"
      ]
     },
     "execution_count": 3,
     "metadata": {},
     "output_type": "execute_result"
    }
   ],
   "source": [
    "# Visualizando X\n",
    "X.head(2)"
   ]
  },
  {
   "cell_type": "markdown",
   "id": "44871b00",
   "metadata": {},
   "source": [
    "### Selecionando apenas as colunas de pétala"
   ]
  },
  {
   "cell_type": "code",
   "execution_count": 4,
   "id": "a0bb3b5f",
   "metadata": {},
   "outputs": [],
   "source": [
    "X1 = X.loc[:,['petal length (cm)','petal width (cm)']]"
   ]
  },
  {
   "cell_type": "markdown",
   "id": "fc455085",
   "metadata": {},
   "source": [
    "### Visualizando graficamente os pontos\n",
    "    "
   ]
  },
  {
   "cell_type": "code",
   "execution_count": 5,
   "id": "e66a367e",
   "metadata": {
    "scrolled": true
   },
   "outputs": [
    {
     "data": {
      "image/png": "[encoded data removed]",
      "text/plain": [
       "<Figure size 500x300 with 1 Axes>"
      ]
     },
     "metadata": {},
     "output_type": "display_data"
    }
   ],
   "source": [
    "fig, ax = plt.subplots(figsize=(5,3))\n",
    "\n",
    "ax.scatter(X1['petal length (cm)'],X1['petal width (cm)'])\n",
    "\n",
    "plt.show()"
   ]
  },
  {
   "cell_type": "code",
   "execution_count": null,
   "id": "d4387471",
   "metadata": {},
   "outputs": [],
   "source": []
  },
  {
   "cell_type": "code",
   "execution_count": null,
   "id": "ed6e946e",
   "metadata": {},
   "outputs": [],
   "source": []
  },
  {
   "cell_type": "markdown",
   "id": "328d6652",
   "metadata": {},
   "source": [
    "# Utilizando algoritmo K-means\n"
   ]
  },
  {
   "cell_type": "code",
   "execution_count": 6,
   "id": "382a4eb0",
   "metadata": {},
   "outputs": [],
   "source": [
    "from sklearn.cluster import KMeans"
   ]
  },
  {
   "cell_type": "markdown",
   "id": "916ef746",
   "metadata": {},
   "source": [
    "### Instanciando e fazendo fit"
   ]
  },
  {
   "cell_type": "code",
   "execution_count": 7,
   "id": "fc64b9a0",
   "metadata": {},
   "outputs": [
    {
     "name": "stderr",
     "output_type": "stream",
     "text": [
      "C:\\Users\\leand\\anaconda3\\Lib\\site-packages\\sklearn\\cluster\\_kmeans.py:1446: UserWarning: KMeans is known to have a memory leak on Windows with MKL, when there are less chunks than available threads. You can avoid it by setting the environment variable OMP_NUM_THREADS=1.\n",
      "  warnings.warn(\n"
     ]
    }
   ],
   "source": [
    "kmeans2 = KMeans(n_clusters=2, random_state=0).fit(X1)"
   ]
  },
  {
   "cell_type": "markdown",
   "id": "22cce6c3",
   "metadata": {},
   "source": [
    "### Verificando quais foram os labels determinados pelo k-means"
   ]
  },
  {
   "cell_type": "code",
   "execution_count": 8,
   "id": "96234cd7",
   "metadata": {
    "scrolled": true
   },
   "outputs": [
    {
     "data": {
      "text/plain": [
       "array([1, 1, 1, 1, 1, 1, 1, 1, 1, 1, 1, 1, 1, 1, 1, 1, 1, 1, 1, 1, 1, 1,\n",
       "       1, 1, 1, 1, 1, 1, 1, 1, 1, 1, 1, 1, 1, 1, 1, 1, 1, 1, 1, 1, 1, 1,\n",
       "       1, 1, 1, 1, 1, 1, 0, 0, 0, 0, 0, 0, 0, 0, 0, 0, 0, 0, 0, 0, 0, 0,\n",
       "       0, 0, 0, 0, 0, 0, 0, 0, 0, 0, 0, 0, 0, 0, 0, 0, 0, 0, 0, 0, 0, 0,\n",
       "       0, 0, 0, 0, 0, 0, 0, 0, 0, 0, 1, 0, 0, 0, 0, 0, 0, 0, 0, 0, 0, 0,\n",
       "       0, 0, 0, 0, 0, 0, 0, 0, 0, 0, 0, 0, 0, 0, 0, 0, 0, 0, 0, 0, 0, 0,\n",
       "       0, 0, 0, 0, 0, 0, 0, 0, 0, 0, 0, 0, 0, 0, 0, 0, 0, 0])"
      ]
     },
     "execution_count": 8,
     "metadata": {},
     "output_type": "execute_result"
    }
   ],
   "source": [
    "kmeans2.labels_"
   ]
  },
  {
   "cell_type": "markdown",
   "id": "5e061565",
   "metadata": {},
   "source": [
    "## Visualizando graficamente os grupos"
   ]
  },
  {
   "cell_type": "code",
   "execution_count": 9,
   "id": "0ecf8505",
   "metadata": {},
   "outputs": [
    {
     "data": {
      "image/png": "[encoded data removed]",
      "text/plain": [
       "<Figure size 640x480 with 1 Axes>"
      ]
     },
     "metadata": {},
     "output_type": "display_data"
    }
   ],
   "source": [
    "fig, ax = plt.subplots()\n",
    "\n",
    "ax.scatter(X1['petal length (cm)'],X1['petal width (cm)'],c=kmeans2.labels_)\n",
    "\n",
    "plt.show()"
   ]
  },
  {
   "cell_type": "markdown",
   "id": "7daeb6c6",
   "metadata": {},
   "source": [
    "## Esse ponto distante dos pontos em roxo, deveria realmente estar como roxo?\n",
    "\n",
    "Ele está mais proximo do centroide do roxo, do que o amarelo. "
   ]
  },
  {
   "cell_type": "code",
   "execution_count": 10,
   "id": "75aa8603",
   "metadata": {},
   "outputs": [
    {
     "data": {
      "text/html": [
       "<div>\n",
       "<style scoped>\n",
       "    .dataframe tbody tr th:only-of-type {\n",
       "        vertical-align: middle;\n",
       "    }\n",
       "\n",
       "    .dataframe tbody tr th {\n",
       "        vertical-align: top;\n",
       "    }\n",
       "\n",
       "    .dataframe thead th {\n",
       "        text-align: right;\n",
       "    }\n",
       "</style>\n",
       "<table border=\"1\" class=\"dataframe\">\n",
       "  <thead>\n",
       "    <tr style=\"text-align: right;\">\n",
       "      <th></th>\n",
       "      <th>petal length (cm)</th>\n",
       "      <th>petal width (cm)</th>\n",
       "    </tr>\n",
       "  </thead>\n",
       "  <tbody>\n",
       "    <tr>\n",
       "      <th>98</th>\n",
       "      <td>3.0</td>\n",
       "      <td>1.1</td>\n",
       "    </tr>\n",
       "  </tbody>\n",
       "</table>\n",
       "</div>"
      ],
      "text/plain": [
       "    petal length (cm)  petal width (cm)\n",
       "98                3.0               1.1"
      ]
     },
     "execution_count": 10,
     "metadata": {},
     "output_type": "execute_result"
    }
   ],
   "source": [
    "# Visualizando o ponto\n",
    "ponto = X1[X1['petal length (cm)'] == 3]\n",
    "ponto"
   ]
  },
  {
   "cell_type": "markdown",
   "id": "b28ea644",
   "metadata": {},
   "source": [
    "### Vamos visualizar o ponto, juntamente com os centroides\n",
    "\n",
    "Centroids obtidos atraves da função kmeans2.cluster_centers"
   ]
  },
  {
   "cell_type": "code",
   "execution_count": 11,
   "id": "68ffc683",
   "metadata": {},
   "outputs": [
    {
     "data": {
      "text/plain": [
       "array([[4.92525253, 1.68181818],\n",
       "       [1.49215686, 0.2627451 ]])"
      ]
     },
     "execution_count": 11,
     "metadata": {},
     "output_type": "execute_result"
    }
   ],
   "source": [
    "# Verificando os centróides\n",
    "kmeans2.cluster_centers_"
   ]
  },
  {
   "cell_type": "markdown",
   "id": "94302aab",
   "metadata": {},
   "source": [
    "### Visualizando graficamente "
   ]
  },
  {
   "cell_type": "code",
   "execution_count": 12,
   "id": "484dd52e",
   "metadata": {
    "scrolled": true
   },
   "outputs": [
    {
     "data": {
      "image/png": "[encoded data removed]",
      "text/plain": [
       "<Figure size 500x300 with 1 Axes>"
      ]
     },
     "metadata": {},
     "output_type": "display_data"
    }
   ],
   "source": [
    "fig, ax = plt.subplots(figsize=(5,3))\n",
    "\n",
    "ax.scatter(X1['petal length (cm)'],X1['petal width (cm)'],c=kmeans2.labels_)\n",
    "ax.scatter(ponto['petal length (cm)'],ponto['petal width (cm)'],c='b',s=50)\n",
    "ax.scatter(kmeans2.cluster_centers_[:,0],kmeans2.cluster_centers_[:,1],c='r')\n",
    "\n",
    "plt.show()"
   ]
  },
  {
   "cell_type": "markdown",
   "id": "f0f4fd64",
   "metadata": {},
   "source": [
    "\n",
    "\n",
    "### Tambem poderiamos calcular matematicamente as distancias entre os pontos:"
   ]
  },
  {
   "cell_type": "code",
   "execution_count": 13,
   "id": "27fb36f4",
   "metadata": {},
   "outputs": [],
   "source": [
    "# Considerando o x e o y do ponto\n",
    "x_ponto = ponto['petal length (cm)']\n",
    "y_ponto = ponto['petal width (cm)']"
   ]
  },
  {
   "cell_type": "code",
   "execution_count": 14,
   "id": "5b6f66ff",
   "metadata": {},
   "outputs": [],
   "source": [
    "# O x e y para o ponto em roxo\n",
    "x_roxo = kmeans2.cluster_centers_[0][0]\n",
    "y_roxo = kmeans2.cluster_centers_[0][1]"
   ]
  },
  {
   "cell_type": "code",
   "execution_count": 15,
   "id": "fc80c720",
   "metadata": {},
   "outputs": [],
   "source": [
    "# E para o ponto amarelo\n",
    "x_amarelo = kmeans2.cluster_centers_[1][0]\n",
    "y_amarelo = kmeans2.cluster_centers_[1][1]"
   ]
  },
  {
   "cell_type": "code",
   "execution_count": 16,
   "id": "2ab9ecff",
   "metadata": {},
   "outputs": [
    {
     "data": {
      "text/plain": [
       "98    2.011246\n",
       "dtype: float64"
      ]
     },
     "execution_count": 16,
     "metadata": {},
     "output_type": "execute_result"
    }
   ],
   "source": [
    "# Podemos calcular a distância ao ponto roxo\n",
    "((x_roxo-x_ponto)**2+(y_roxo-y_ponto)**2)**(1/2)"
   ]
  },
  {
   "cell_type": "code",
   "execution_count": 17,
   "id": "6ddfe50a",
   "metadata": {},
   "outputs": [
    {
     "data": {
      "text/plain": [
       "98    1.724699\n",
       "dtype: float64"
      ]
     },
     "execution_count": 17,
     "metadata": {},
     "output_type": "execute_result"
    }
   ],
   "source": [
    "# E a distância ao ponto amarelo\n",
    "((x_amarelo-x_ponto)**2+(y_amarelo-y_ponto)**2)**(1/2)"
   ]
  },
  {
   "cell_type": "markdown",
   "id": "5ad7fb1e",
   "metadata": {},
   "source": [
    "### Concluimos que o ponto está mais proximo do centroide do roxo, do que o amarelo."
   ]
  },
  {
   "cell_type": "code",
   "execution_count": null,
   "id": "32d1b92b",
   "metadata": {},
   "outputs": [],
   "source": []
  },
  {
   "cell_type": "markdown",
   "id": "d7c2923b",
   "metadata": {},
   "source": [
    "# Mas qual o valor de k ideal?\n",
    "\n",
    "Podemos utilizar inertia_ para calcular a qualidade do ajuste do modelo aos dados\n",
    "\n",
    "Quanto menor a inércia, melhor separação entre os grupos de dados. Evitando o superajuste dos dados e inumeros grupos"
   ]
  },
  {
   "cell_type": "code",
   "execution_count": null,
   "id": "d129108a",
   "metadata": {},
   "outputs": [],
   "source": []
  },
  {
   "cell_type": "markdown",
   "id": "d541b918",
   "metadata": {},
   "source": [
    "### Podemos analisar o melhor k com um laço, alterando os valores de K:"
   ]
  },
  {
   "cell_type": "code",
   "execution_count": 36,
   "id": "76be69fa",
   "metadata": {},
   "outputs": [],
   "source": [
    "# Retirando temporariamente os warnings do nosso código\n",
    "import warnings\n",
    "warnings.filterwarnings('ignore')"
   ]
  },
  {
   "cell_type": "code",
   "execution_count": 37,
   "id": "652fe2df",
   "metadata": {},
   "outputs": [],
   "source": [
    "valores_k = []\n",
    "inercias = []\n",
    "\n",
    "for i in range(1,11):\n",
    "    kmeans = KMeans(n_clusters=i, random_state=0).fit(X1)\n",
    "    valores_k.append(i)\n",
    "    inercias.append(kmeans.inertia_)"
   ]
  },
  {
   "cell_type": "markdown",
   "id": "3f23c5f5",
   "metadata": {},
   "source": [
    "## Visualizando graficamente cada valor de k e a inercia"
   ]
  },
  {
   "cell_type": "code",
   "execution_count": 38,
   "id": "827c1149",
   "metadata": {},
   "outputs": [
    {
     "data": {
      "image/png": "[encoded data removed]",
      "text/plain": [
       "<Figure size 640x480 with 1 Axes>"
      ]
     },
     "metadata": {},
     "output_type": "display_data"
    }
   ],
   "source": [
    "fig, ax = plt.subplots()\n",
    "\n",
    "ax.plot(valores_k,inercias)\n",
    "\n",
    "plt.show()"
   ]
  },
  {
   "cell_type": "markdown",
   "id": "3d44f992",
   "metadata": {},
   "source": [
    "### De acordo com metodo Elbow Method (metodo do cotovelo):\n",
    "\n",
    "O metodo identifica o ponto onde a curva forma um \"cotovelo\", indicando um equilíbrio entre a redução da inércia e a adição de clusters. Este ponto é frequentemente considerado o número ideal de clusters.\n",
    "\n",
    "Porem, isso é apenas um direcionamento, porém o que é mais importante é conhecermos o negócio!\n",
    "\n",
    "\n",
    "\n",
    "\n"
   ]
  },
  {
   "cell_type": "code",
   "execution_count": null,
   "id": "fa8fe7fc",
   "metadata": {},
   "outputs": [],
   "source": []
  }
 ],
 "metadata": {
  "kernelspec": {
   "display_name": "Python 3 (ipykernel)",
   "language": "python",
   "name": "python3"
  },
  "language_info": {
   "codemirror_mode": {
    "name": "ipython",
    "version": 3
   },
   "file_extension": ".py",
   "mimetype": "text/x-python",
   "name": "python",
   "nbconvert_exporter": "python",
   "pygments_lexer": "ipython3",
   "version": "3.11.5"
  }
 },
 "nbformat": 4,
 "nbformat_minor": 5
}
