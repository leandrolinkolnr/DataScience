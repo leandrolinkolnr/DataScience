{
 "cells": [
  {
   "cell_type": "markdown",
   "id": "feac95d5",
   "metadata": {},
   "source": [
    "# Criando um modelo de Regressão Linear\n",
    "- Tenho os dados de preço, desconto e venda e vou fazer uma campanha de natal nas lojas com o preço de 17.50 e desconto de até 40 centavos e preciso saber quanto de estoque eu devo mandar para a loja"
   ]
  },
  {
   "cell_type": "code",
   "execution_count": 29,
   "id": "02c69487",
   "metadata": {},
   "outputs": [],
   "source": [
    "import pandas as pd"
   ]
  },
  {
   "cell_type": "code",
   "execution_count": 30,
   "id": "e7fbcf2f",
   "metadata": {},
   "outputs": [
    {
     "data": {
      "text/html": [
       "<div>\n",
       "<style scoped>\n",
       "    .dataframe tbody tr th:only-of-type {\n",
       "        vertical-align: middle;\n",
       "    }\n",
       "\n",
       "    .dataframe tbody tr th {\n",
       "        vertical-align: top;\n",
       "    }\n",
       "\n",
       "    .dataframe thead th {\n",
       "        text-align: right;\n",
       "    }\n",
       "</style>\n",
       "<table border=\"1\" class=\"dataframe\">\n",
       "  <thead>\n",
       "    <tr style=\"text-align: right;\">\n",
       "      <th></th>\n",
       "      <th>IDRegistro</th>\n",
       "      <th>PrecoVenda</th>\n",
       "      <th>PrecoOriginal</th>\n",
       "      <th>Desconto</th>\n",
       "      <th>VendaQtd</th>\n",
       "    </tr>\n",
       "  </thead>\n",
       "  <tbody>\n",
       "    <tr>\n",
       "      <th>0</th>\n",
       "      <td>1</td>\n",
       "      <td>21.85</td>\n",
       "      <td>23</td>\n",
       "      <td>1.15</td>\n",
       "      <td>81</td>\n",
       "    </tr>\n",
       "    <tr>\n",
       "      <th>1</th>\n",
       "      <td>2</td>\n",
       "      <td>4.30</td>\n",
       "      <td>5</td>\n",
       "      <td>0.70</td>\n",
       "      <td>3361</td>\n",
       "    </tr>\n",
       "    <tr>\n",
       "      <th>2</th>\n",
       "      <td>3</td>\n",
       "      <td>13.65</td>\n",
       "      <td>15</td>\n",
       "      <td>1.35</td>\n",
       "      <td>1551</td>\n",
       "    </tr>\n",
       "  </tbody>\n",
       "</table>\n",
       "</div>"
      ],
      "text/plain": [
       "   IDRegistro  PrecoVenda  PrecoOriginal  Desconto  VendaQtd\n",
       "0           1       21.85             23      1.15        81\n",
       "1           2        4.30              5      0.70      3361\n",
       "2           3       13.65             15      1.35      1551"
      ]
     },
     "execution_count": 30,
     "metadata": {},
     "output_type": "execute_result"
    }
   ],
   "source": [
    "dados = pd.read_excel(\"./dadosVenda.xlsx\")\n",
    "dados.head(3)"
   ]
  },
  {
   "cell_type": "code",
   "execution_count": 31,
   "id": "a2625f3d",
   "metadata": {},
   "outputs": [
    {
     "name": "stdout",
     "output_type": "stream",
     "text": [
      "<class 'pandas.core.frame.DataFrame'>\n",
      "RangeIndex: 1634 entries, 0 to 1633\n",
      "Data columns (total 5 columns):\n",
      " #   Column         Non-Null Count  Dtype  \n",
      "---  ------         --------------  -----  \n",
      " 0   IDRegistro     1634 non-null   int64  \n",
      " 1   PrecoVenda     1634 non-null   float64\n",
      " 2   PrecoOriginal  1634 non-null   int64  \n",
      " 3   Desconto       1606 non-null   float64\n",
      " 4   VendaQtd       1634 non-null   int64  \n",
      "dtypes: float64(2), int64(3)\n",
      "memory usage: 64.0 KB\n"
     ]
    }
   ],
   "source": [
    "# Verificando as informações da base\n",
    "dados.info()"
   ]
  },
  {
   "cell_type": "code",
   "execution_count": 32,
   "id": "dc10524c",
   "metadata": {
    "scrolled": true
   },
   "outputs": [
    {
     "data": {
      "text/html": [
       "<div>\n",
       "<style scoped>\n",
       "    .dataframe tbody tr th:only-of-type {\n",
       "        vertical-align: middle;\n",
       "    }\n",
       "\n",
       "    .dataframe tbody tr th {\n",
       "        vertical-align: top;\n",
       "    }\n",
       "\n",
       "    .dataframe thead th {\n",
       "        text-align: right;\n",
       "    }\n",
       "</style>\n",
       "<table border=\"1\" class=\"dataframe\">\n",
       "  <thead>\n",
       "    <tr style=\"text-align: right;\">\n",
       "      <th></th>\n",
       "      <th>IDRegistro</th>\n",
       "      <th>PrecoVenda</th>\n",
       "      <th>PrecoOriginal</th>\n",
       "      <th>Desconto</th>\n",
       "      <th>VendaQtd</th>\n",
       "    </tr>\n",
       "  </thead>\n",
       "  <tbody>\n",
       "    <tr>\n",
       "      <th>18</th>\n",
       "      <td>19</td>\n",
       "      <td>22.0</td>\n",
       "      <td>22</td>\n",
       "      <td>NaN</td>\n",
       "      <td>228</td>\n",
       "    </tr>\n",
       "    <tr>\n",
       "      <th>23</th>\n",
       "      <td>24</td>\n",
       "      <td>9.0</td>\n",
       "      <td>9</td>\n",
       "      <td>NaN</td>\n",
       "      <td>2607</td>\n",
       "    </tr>\n",
       "    <tr>\n",
       "      <th>45</th>\n",
       "      <td>46</td>\n",
       "      <td>19.0</td>\n",
       "      <td>19</td>\n",
       "      <td>NaN</td>\n",
       "      <td>777</td>\n",
       "    </tr>\n",
       "    <tr>\n",
       "      <th>46</th>\n",
       "      <td>47</td>\n",
       "      <td>13.0</td>\n",
       "      <td>13</td>\n",
       "      <td>NaN</td>\n",
       "      <td>1875</td>\n",
       "    </tr>\n",
       "    <tr>\n",
       "      <th>64</th>\n",
       "      <td>65</td>\n",
       "      <td>23.0</td>\n",
       "      <td>23</td>\n",
       "      <td>NaN</td>\n",
       "      <td>45</td>\n",
       "    </tr>\n",
       "    <tr>\n",
       "      <th>177</th>\n",
       "      <td>178</td>\n",
       "      <td>5.0</td>\n",
       "      <td>5</td>\n",
       "      <td>NaN</td>\n",
       "      <td>3339</td>\n",
       "    </tr>\n",
       "    <tr>\n",
       "      <th>327</th>\n",
       "      <td>328</td>\n",
       "      <td>21.0</td>\n",
       "      <td>21</td>\n",
       "      <td>NaN</td>\n",
       "      <td>411</td>\n",
       "    </tr>\n",
       "    <tr>\n",
       "      <th>440</th>\n",
       "      <td>441</td>\n",
       "      <td>13.0</td>\n",
       "      <td>13</td>\n",
       "      <td>NaN</td>\n",
       "      <td>1875</td>\n",
       "    </tr>\n",
       "    <tr>\n",
       "      <th>452</th>\n",
       "      <td>453</td>\n",
       "      <td>18.0</td>\n",
       "      <td>18</td>\n",
       "      <td>NaN</td>\n",
       "      <td>960</td>\n",
       "    </tr>\n",
       "    <tr>\n",
       "      <th>515</th>\n",
       "      <td>516</td>\n",
       "      <td>15.0</td>\n",
       "      <td>15</td>\n",
       "      <td>NaN</td>\n",
       "      <td>1509</td>\n",
       "    </tr>\n",
       "    <tr>\n",
       "      <th>584</th>\n",
       "      <td>585</td>\n",
       "      <td>15.0</td>\n",
       "      <td>15</td>\n",
       "      <td>NaN</td>\n",
       "      <td>1509</td>\n",
       "    </tr>\n",
       "    <tr>\n",
       "      <th>593</th>\n",
       "      <td>594</td>\n",
       "      <td>13.0</td>\n",
       "      <td>13</td>\n",
       "      <td>NaN</td>\n",
       "      <td>1875</td>\n",
       "    </tr>\n",
       "    <tr>\n",
       "      <th>597</th>\n",
       "      <td>598</td>\n",
       "      <td>13.0</td>\n",
       "      <td>13</td>\n",
       "      <td>NaN</td>\n",
       "      <td>1875</td>\n",
       "    </tr>\n",
       "    <tr>\n",
       "      <th>652</th>\n",
       "      <td>653</td>\n",
       "      <td>10.0</td>\n",
       "      <td>10</td>\n",
       "      <td>NaN</td>\n",
       "      <td>2424</td>\n",
       "    </tr>\n",
       "    <tr>\n",
       "      <th>726</th>\n",
       "      <td>727</td>\n",
       "      <td>15.0</td>\n",
       "      <td>15</td>\n",
       "      <td>NaN</td>\n",
       "      <td>1509</td>\n",
       "    </tr>\n",
       "    <tr>\n",
       "      <th>741</th>\n",
       "      <td>742</td>\n",
       "      <td>7.0</td>\n",
       "      <td>7</td>\n",
       "      <td>NaN</td>\n",
       "      <td>2973</td>\n",
       "    </tr>\n",
       "    <tr>\n",
       "      <th>854</th>\n",
       "      <td>855</td>\n",
       "      <td>16.0</td>\n",
       "      <td>16</td>\n",
       "      <td>NaN</td>\n",
       "      <td>1326</td>\n",
       "    </tr>\n",
       "    <tr>\n",
       "      <th>941</th>\n",
       "      <td>942</td>\n",
       "      <td>11.0</td>\n",
       "      <td>11</td>\n",
       "      <td>NaN</td>\n",
       "      <td>2241</td>\n",
       "    </tr>\n",
       "    <tr>\n",
       "      <th>1139</th>\n",
       "      <td>1140</td>\n",
       "      <td>7.0</td>\n",
       "      <td>7</td>\n",
       "      <td>NaN</td>\n",
       "      <td>2973</td>\n",
       "    </tr>\n",
       "    <tr>\n",
       "      <th>1185</th>\n",
       "      <td>1186</td>\n",
       "      <td>14.0</td>\n",
       "      <td>14</td>\n",
       "      <td>NaN</td>\n",
       "      <td>1692</td>\n",
       "    </tr>\n",
       "    <tr>\n",
       "      <th>1196</th>\n",
       "      <td>1197</td>\n",
       "      <td>21.0</td>\n",
       "      <td>21</td>\n",
       "      <td>NaN</td>\n",
       "      <td>411</td>\n",
       "    </tr>\n",
       "    <tr>\n",
       "      <th>1273</th>\n",
       "      <td>1274</td>\n",
       "      <td>15.0</td>\n",
       "      <td>15</td>\n",
       "      <td>NaN</td>\n",
       "      <td>1509</td>\n",
       "    </tr>\n",
       "    <tr>\n",
       "      <th>1274</th>\n",
       "      <td>1275</td>\n",
       "      <td>12.0</td>\n",
       "      <td>12</td>\n",
       "      <td>NaN</td>\n",
       "      <td>2058</td>\n",
       "    </tr>\n",
       "    <tr>\n",
       "      <th>1412</th>\n",
       "      <td>1413</td>\n",
       "      <td>5.0</td>\n",
       "      <td>5</td>\n",
       "      <td>NaN</td>\n",
       "      <td>3339</td>\n",
       "    </tr>\n",
       "    <tr>\n",
       "      <th>1468</th>\n",
       "      <td>1469</td>\n",
       "      <td>9.0</td>\n",
       "      <td>9</td>\n",
       "      <td>NaN</td>\n",
       "      <td>2607</td>\n",
       "    </tr>\n",
       "    <tr>\n",
       "      <th>1497</th>\n",
       "      <td>1498</td>\n",
       "      <td>14.0</td>\n",
       "      <td>14</td>\n",
       "      <td>NaN</td>\n",
       "      <td>1692</td>\n",
       "    </tr>\n",
       "    <tr>\n",
       "      <th>1591</th>\n",
       "      <td>1592</td>\n",
       "      <td>10.0</td>\n",
       "      <td>10</td>\n",
       "      <td>NaN</td>\n",
       "      <td>2424</td>\n",
       "    </tr>\n",
       "    <tr>\n",
       "      <th>1623</th>\n",
       "      <td>1624</td>\n",
       "      <td>19.0</td>\n",
       "      <td>19</td>\n",
       "      <td>NaN</td>\n",
       "      <td>777</td>\n",
       "    </tr>\n",
       "  </tbody>\n",
       "</table>\n",
       "</div>"
      ],
      "text/plain": [
       "      IDRegistro  PrecoVenda  PrecoOriginal  Desconto  VendaQtd\n",
       "18            19        22.0             22       NaN       228\n",
       "23            24         9.0              9       NaN      2607\n",
       "45            46        19.0             19       NaN       777\n",
       "46            47        13.0             13       NaN      1875\n",
       "64            65        23.0             23       NaN        45\n",
       "177          178         5.0              5       NaN      3339\n",
       "327          328        21.0             21       NaN       411\n",
       "440          441        13.0             13       NaN      1875\n",
       "452          453        18.0             18       NaN       960\n",
       "515          516        15.0             15       NaN      1509\n",
       "584          585        15.0             15       NaN      1509\n",
       "593          594        13.0             13       NaN      1875\n",
       "597          598        13.0             13       NaN      1875\n",
       "652          653        10.0             10       NaN      2424\n",
       "726          727        15.0             15       NaN      1509\n",
       "741          742         7.0              7       NaN      2973\n",
       "854          855        16.0             16       NaN      1326\n",
       "941          942        11.0             11       NaN      2241\n",
       "1139        1140         7.0              7       NaN      2973\n",
       "1185        1186        14.0             14       NaN      1692\n",
       "1196        1197        21.0             21       NaN       411\n",
       "1273        1274        15.0             15       NaN      1509\n",
       "1274        1275        12.0             12       NaN      2058\n",
       "1412        1413         5.0              5       NaN      3339\n",
       "1468        1469         9.0              9       NaN      2607\n",
       "1497        1498        14.0             14       NaN      1692\n",
       "1591        1592        10.0             10       NaN      2424\n",
       "1623        1624        19.0             19       NaN       777"
      ]
     },
     "execution_count": 32,
     "metadata": {},
     "output_type": "execute_result"
    }
   ],
   "source": [
    "dados[dados.Desconto.isnull()]"
   ]
  },
  {
   "cell_type": "markdown",
   "id": "b7e34994",
   "metadata": {},
   "source": [
    "**Tratando valores vazios**"
   ]
  },
  {
   "cell_type": "code",
   "execution_count": 33,
   "id": "022ecbfe",
   "metadata": {},
   "outputs": [],
   "source": [
    "# Ajustando os dados com valores de desconto vazio\n",
    "#dados[dados.Desconto.isnull()] = 0\n",
    "dados.loc[dados.Desconto.isnull(),\"Desconto\"] = 0"
   ]
  },
  {
   "cell_type": "code",
   "execution_count": 34,
   "id": "d1ec0f05",
   "metadata": {},
   "outputs": [
    {
     "name": "stdout",
     "output_type": "stream",
     "text": [
      "<class 'pandas.core.frame.DataFrame'>\n",
      "RangeIndex: 1634 entries, 0 to 1633\n",
      "Data columns (total 5 columns):\n",
      " #   Column         Non-Null Count  Dtype  \n",
      "---  ------         --------------  -----  \n",
      " 0   IDRegistro     1634 non-null   int64  \n",
      " 1   PrecoVenda     1634 non-null   float64\n",
      " 2   PrecoOriginal  1634 non-null   int64  \n",
      " 3   Desconto       1634 non-null   float64\n",
      " 4   VendaQtd       1634 non-null   int64  \n",
      "dtypes: float64(2), int64(3)\n",
      "memory usage: 64.0 KB\n"
     ]
    }
   ],
   "source": [
    "# Verificando novamente as informações da base\n",
    "dados.info()"
   ]
  },
  {
   "cell_type": "markdown",
   "id": "9fe9f8ff",
   "metadata": {},
   "source": [
    "**Entendendo a base**"
   ]
  },
  {
   "cell_type": "code",
   "execution_count": 35,
   "id": "de021953",
   "metadata": {},
   "outputs": [
    {
     "data": {
      "image/png": "[encoded data removed]",
      "text/plain": [
       "<Figure size 640x480 with 1 Axes>"
      ]
     },
     "metadata": {},
     "output_type": "display_data"
    }
   ],
   "source": [
    "# Podemos fazer o scatter plot\n",
    "import matplotlib.pyplot as plt\n",
    "\n",
    "# plot\n",
    "fig, ax = plt.subplots()\n",
    "\n",
    "ax.scatter(dados.PrecoVenda, dados.VendaQtd)\n",
    "\n",
    "plt.show()"
   ]
  },
  {
   "cell_type": "markdown",
   "id": "73dc7d16",
   "metadata": {},
   "source": [
    "### Definição do modelo\n",
    "- https://scikit-learn.org/stable/modules/generated/sklearn.linear_model.LinearRegression.html"
   ]
  },
  {
   "cell_type": "code",
   "execution_count": 36,
   "id": "d1af6999",
   "metadata": {},
   "outputs": [],
   "source": [
    "# Importando o LinearRegression\n",
    "from sklearn.linear_model import LinearRegression"
   ]
  },
  {
   "cell_type": "code",
   "execution_count": 37,
   "id": "5d44975f",
   "metadata": {},
   "outputs": [],
   "source": [
    "# Criando os dados\n",
    "X = dados.PrecoVenda\n",
    "y = dados.VendaQtd"
   ]
  },
  {
   "cell_type": "code",
   "execution_count": 38,
   "id": "f0438fda",
   "metadata": {},
   "outputs": [],
   "source": [
    "# Fazendo o fit do modelo\n",
    "# Passsando X e Y, e tratando o x\n",
    "reg = LinearRegression().fit(X.values.reshape(-1, 1), y)"
   ]
  },
  {
   "cell_type": "code",
   "execution_count": 39,
   "id": "ebc0817a",
   "metadata": {},
   "outputs": [
    {
     "data": {
      "text/plain": [
       "0.8956436940447059"
      ]
     },
     "execution_count": 39,
     "metadata": {},
     "output_type": "execute_result"
    }
   ],
   "source": [
    "# Qual o score? o resultado do modelo\n",
    "# Passsando X e Y, e tratando o x\n",
    "\n",
    "reg.score(X.values.reshape(-1, 1), y)"
   ]
  },
  {
   "cell_type": "markdown",
   "id": "8327e80d",
   "metadata": {},
   "source": [
    "### Ele ainda da o coeficiente ANGULAR e o coeficiente LINEAR\n",
    "##### Que podemos usar para traçar os pontos\n",
    "reg.coef_ <br>\n",
    "reg.intercept_"
   ]
  },
  {
   "cell_type": "code",
   "execution_count": 40,
   "id": "cd32143a",
   "metadata": {},
   "outputs": [
    {
     "data": {
      "image/png": "[encoded data removed]",
      "text/plain": [
       "<Figure size 640x480 with 1 Axes>"
      ]
     },
     "metadata": {},
     "output_type": "display_data"
    }
   ],
   "source": [
    "# Podemos fazer o scatter plot\n",
    "import matplotlib.pyplot as plt\n",
    "import numpy as np\n",
    "\n",
    "# plot\n",
    "fig, ax = plt.subplots()\n",
    "\n",
    "# Mostrando o grafico com os pontos\n",
    "ax.scatter(dados.PrecoVenda, dados.VendaQtd)\n",
    "\n",
    "# Definindo o X e Y\n",
    "x_plot = np.arange(2,23)  # Pegando do grafico\n",
    "\n",
    "#Equação da reta = Coeficiente linear + x* coeficiente angular\n",
    "y_plot = reg.coef_[0]*x_plot + reg.intercept_ \n",
    "\n",
    "\n",
    "# Traçando a reta\n",
    "# c='r' = cor vermelha\n",
    "ax.plot(x_plot,y_plot,c='r')\n",
    "\n",
    "plt.show()"
   ]
  },
  {
   "cell_type": "markdown",
   "id": "72026dc6",
   "metadata": {},
   "source": [
    "### Realizando previsao"
   ]
  },
  {
   "cell_type": "code",
   "execution_count": 41,
   "id": "3e29610c",
   "metadata": {},
   "outputs": [],
   "source": [
    "# Podemos definir uma lista de valores para fazermos a previsão\n",
    "valores = {\n",
    "    'valores': [17.50, 17.40, 17.30, 17.20, 17.10]\n",
    "}\n",
    "\n",
    "valores = pd.DataFrame(valores)"
   ]
  },
  {
   "cell_type": "code",
   "execution_count": 42,
   "id": "0505fb64",
   "metadata": {},
   "outputs": [
    {
     "name": "stderr",
     "output_type": "stream",
     "text": [
      "C:\\Users\\leand\\anaconda3\\Lib\\site-packages\\sklearn\\base.py:457: UserWarning: X has feature names, but LinearRegression was fitted without feature names\n",
      "  warnings.warn(\n"
     ]
    },
    {
     "data": {
      "text/plain": [
       "array([559.94606196, 579.3805924 , 598.81512285, 618.2496533 ,\n",
       "       637.68418374])"
      ]
     },
     "execution_count": 42,
     "metadata": {},
     "output_type": "execute_result"
    }
   ],
   "source": [
    "# Fazendo o predict\n",
    "reg.predict(valores)"
   ]
  },
  {
   "cell_type": "markdown",
   "id": "7502ab5d",
   "metadata": {},
   "source": [
    "##### Se eu vender a 17.50, terei 685... Se vender a 17,10 terei 751, etc.."
   ]
  },
  {
   "cell_type": "code",
   "execution_count": null,
   "id": "99b7f7d2",
   "metadata": {},
   "outputs": [],
   "source": []
  },
  {
   "cell_type": "code",
   "execution_count": null,
   "id": "c1ffd9b3",
   "metadata": {},
   "outputs": [],
   "source": []
  },
  {
   "cell_type": "markdown",
   "id": "cf6b6441",
   "metadata": {},
   "source": [
    "### Verificando esse modelo"
   ]
  },
  {
   "cell_type": "code",
   "execution_count": 43,
   "id": "5ee78f9a",
   "metadata": {},
   "outputs": [
    {
     "data": {
      "text/html": [
       "<div>\n",
       "<style scoped>\n",
       "    .dataframe tbody tr th:only-of-type {\n",
       "        vertical-align: middle;\n",
       "    }\n",
       "\n",
       "    .dataframe tbody tr th {\n",
       "        vertical-align: top;\n",
       "    }\n",
       "\n",
       "    .dataframe thead th {\n",
       "        text-align: right;\n",
       "    }\n",
       "</style>\n",
       "<table border=\"1\" class=\"dataframe\">\n",
       "  <thead>\n",
       "    <tr style=\"text-align: right;\">\n",
       "      <th></th>\n",
       "      <th>IDRegistro</th>\n",
       "      <th>PrecoVenda</th>\n",
       "      <th>PrecoOriginal</th>\n",
       "      <th>Desconto</th>\n",
       "      <th>VendaQtd</th>\n",
       "    </tr>\n",
       "  </thead>\n",
       "  <tbody>\n",
       "    <tr>\n",
       "      <th>397</th>\n",
       "      <td>398</td>\n",
       "      <td>17.1</td>\n",
       "      <td>19</td>\n",
       "      <td>1.9</td>\n",
       "      <td>836</td>\n",
       "    </tr>\n",
       "    <tr>\n",
       "      <th>492</th>\n",
       "      <td>493</td>\n",
       "      <td>17.1</td>\n",
       "      <td>19</td>\n",
       "      <td>1.9</td>\n",
       "      <td>836</td>\n",
       "    </tr>\n",
       "    <tr>\n",
       "      <th>1414</th>\n",
       "      <td>1415</td>\n",
       "      <td>17.1</td>\n",
       "      <td>18</td>\n",
       "      <td>0.9</td>\n",
       "      <td>988</td>\n",
       "    </tr>\n",
       "  </tbody>\n",
       "</table>\n",
       "</div>"
      ],
      "text/plain": [
       "      IDRegistro  PrecoVenda  PrecoOriginal  Desconto  VendaQtd\n",
       "397          398        17.1             19       1.9       836\n",
       "492          493        17.1             19       1.9       836\n",
       "1414        1415        17.1             18       0.9       988"
      ]
     },
     "execution_count": 43,
     "metadata": {},
     "output_type": "execute_result"
    }
   ],
   "source": [
    "# Verificando os dados para esse mesmo preço de venda\n",
    "dados[dados.PrecoVenda == 17.10]"
   ]
  },
  {
   "cell_type": "code",
   "execution_count": 44,
   "id": "c503883d",
   "metadata": {},
   "outputs": [
    {
     "data": {
      "text/html": [
       "<div>\n",
       "<style scoped>\n",
       "    .dataframe tbody tr th:only-of-type {\n",
       "        vertical-align: middle;\n",
       "    }\n",
       "\n",
       "    .dataframe tbody tr th {\n",
       "        vertical-align: top;\n",
       "    }\n",
       "\n",
       "    .dataframe thead th {\n",
       "        text-align: right;\n",
       "    }\n",
       "</style>\n",
       "<table border=\"1\" class=\"dataframe\">\n",
       "  <thead>\n",
       "    <tr style=\"text-align: right;\">\n",
       "      <th></th>\n",
       "      <th>IDRegistro</th>\n",
       "      <th>PrecoVenda</th>\n",
       "      <th>PrecoOriginal</th>\n",
       "      <th>Desconto</th>\n",
       "      <th>VendaQtd</th>\n",
       "    </tr>\n",
       "  </thead>\n",
       "  <tbody>\n",
       "    <tr>\n",
       "      <th>108</th>\n",
       "      <td>109</td>\n",
       "      <td>16.83</td>\n",
       "      <td>17</td>\n",
       "      <td>0.17</td>\n",
       "      <td>1148</td>\n",
       "    </tr>\n",
       "    <tr>\n",
       "      <th>284</th>\n",
       "      <td>285</td>\n",
       "      <td>16.66</td>\n",
       "      <td>17</td>\n",
       "      <td>0.34</td>\n",
       "      <td>1154</td>\n",
       "    </tr>\n",
       "    <tr>\n",
       "      <th>452</th>\n",
       "      <td>453</td>\n",
       "      <td>18.00</td>\n",
       "      <td>18</td>\n",
       "      <td>0.00</td>\n",
       "      <td>960</td>\n",
       "    </tr>\n",
       "    <tr>\n",
       "      <th>989</th>\n",
       "      <td>990</td>\n",
       "      <td>16.83</td>\n",
       "      <td>17</td>\n",
       "      <td>0.17</td>\n",
       "      <td>1148</td>\n",
       "    </tr>\n",
       "    <tr>\n",
       "      <th>998</th>\n",
       "      <td>999</td>\n",
       "      <td>16.83</td>\n",
       "      <td>17</td>\n",
       "      <td>0.17</td>\n",
       "      <td>1148</td>\n",
       "    </tr>\n",
       "    <tr>\n",
       "      <th>1115</th>\n",
       "      <td>1116</td>\n",
       "      <td>17.82</td>\n",
       "      <td>18</td>\n",
       "      <td>0.18</td>\n",
       "      <td>966</td>\n",
       "    </tr>\n",
       "    <tr>\n",
       "      <th>1220</th>\n",
       "      <td>1221</td>\n",
       "      <td>17.64</td>\n",
       "      <td>18</td>\n",
       "      <td>0.36</td>\n",
       "      <td>971</td>\n",
       "    </tr>\n",
       "    <tr>\n",
       "      <th>1539</th>\n",
       "      <td>1540</td>\n",
       "      <td>16.66</td>\n",
       "      <td>17</td>\n",
       "      <td>0.34</td>\n",
       "      <td>1154</td>\n",
       "    </tr>\n",
       "    <tr>\n",
       "      <th>1548</th>\n",
       "      <td>1549</td>\n",
       "      <td>16.66</td>\n",
       "      <td>17</td>\n",
       "      <td>0.34</td>\n",
       "      <td>1154</td>\n",
       "    </tr>\n",
       "    <tr>\n",
       "      <th>1576</th>\n",
       "      <td>1577</td>\n",
       "      <td>16.83</td>\n",
       "      <td>17</td>\n",
       "      <td>0.17</td>\n",
       "      <td>1148</td>\n",
       "    </tr>\n",
       "  </tbody>\n",
       "</table>\n",
       "</div>"
      ],
      "text/plain": [
       "      IDRegistro  PrecoVenda  PrecoOriginal  Desconto  VendaQtd\n",
       "108          109       16.83             17      0.17      1148\n",
       "284          285       16.66             17      0.34      1154\n",
       "452          453       18.00             18      0.00       960\n",
       "989          990       16.83             17      0.17      1148\n",
       "998          999       16.83             17      0.17      1148\n",
       "1115        1116       17.82             18      0.18       966\n",
       "1220        1221       17.64             18      0.36       971\n",
       "1539        1540       16.66             17      0.34      1154\n",
       "1548        1549       16.66             17      0.34      1154\n",
       "1576        1577       16.83             17      0.17      1148"
      ]
     },
     "execution_count": 44,
     "metadata": {},
     "output_type": "execute_result"
    }
   ],
   "source": [
    "# Verificando os dados para um range de preços e descontos\n",
    "dados[(dados.PrecoOriginal >= 17) & (dados.PrecoOriginal <= 18) & (dados.Desconto >= 0) & (dados.Desconto <= 0.4)]"
   ]
  },
  {
   "cell_type": "markdown",
   "id": "eef7740f",
   "metadata": {},
   "source": [
    "#### Notamos que o valor estimado esta muito errado, isso acontece porque usamos preço de venda ao inves do preço original do desconto"
   ]
  },
  {
   "cell_type": "code",
   "execution_count": null,
   "id": "5ce67ba5",
   "metadata": {},
   "outputs": [],
   "source": []
  },
  {
   "cell_type": "markdown",
   "id": "f9cd3d52",
   "metadata": {},
   "source": [
    "### Escolhendo novas entradas pro modelo\n",
    "- Podemos, ao invés de usar PrecoVenda, usar PrecoOriginal e Desconto"
   ]
  },
  {
   "cell_type": "code",
   "execution_count": 45,
   "id": "434c3050",
   "metadata": {},
   "outputs": [],
   "source": [
    "# Dados\n",
    "# X é o que vai usar pra ter a previsao e Y o que quer que preveja\n",
    "X2 = dados[[\"PrecoOriginal\",\"Desconto\"]]\n",
    "y2 = dados.VendaQtd"
   ]
  },
  {
   "cell_type": "code",
   "execution_count": 46,
   "id": "236491fa",
   "metadata": {},
   "outputs": [],
   "source": [
    "# Fazendo o fit\n",
    "reg2 = LinearRegression().fit(X2, y2)"
   ]
  },
  {
   "cell_type": "code",
   "execution_count": 47,
   "id": "5cfe2422",
   "metadata": {},
   "outputs": [
    {
     "data": {
      "text/plain": [
       "0.9999999083594651"
      ]
     },
     "execution_count": 47,
     "metadata": {},
     "output_type": "execute_result"
    }
   ],
   "source": [
    "# Resultado\n",
    "# Acertando 99.99%\n",
    "reg2.score(X2, y2)"
   ]
  },
  {
   "cell_type": "code",
   "execution_count": 48,
   "id": "552ae732",
   "metadata": {},
   "outputs": [
    {
     "data": {
      "text/plain": [
       "0.8956436940447059"
      ]
     },
     "execution_count": 48,
     "metadata": {},
     "output_type": "execute_result"
    }
   ],
   "source": [
    "# Resultado anterior\n",
    "reg.score(X.values.reshape(-1, 1),y)"
   ]
  },
  {
   "cell_type": "code",
   "execution_count": 49,
   "id": "77e4c8f4",
   "metadata": {},
   "outputs": [
    {
     "data": {
      "text/plain": [
       "array([-182.99974391,   31.00137454])"
      ]
     },
     "execution_count": 49,
     "metadata": {},
     "output_type": "execute_result"
    }
   ],
   "source": [
    "# Coeficiente angular\n",
    "reg2.coef_"
   ]
  },
  {
   "cell_type": "code",
   "execution_count": 50,
   "id": "eaf02e3c",
   "metadata": {},
   "outputs": [
    {
     "data": {
      "text/plain": [
       "4254.00024394365"
      ]
     },
     "execution_count": 50,
     "metadata": {},
     "output_type": "execute_result"
    }
   ],
   "source": [
    "# Coeficiente linear \n",
    "reg2.intercept_"
   ]
  },
  {
   "cell_type": "markdown",
   "id": "62382b2a",
   "metadata": {},
   "source": [
    "### Fazendo predição"
   ]
  },
  {
   "cell_type": "code",
   "execution_count": 64,
   "id": "d73ea63a",
   "metadata": {},
   "outputs": [],
   "source": [
    "# Criando valores para predição\n",
    "\n",
    "valores = {\n",
    "    'valores': [17.50, 17.40, 17.30, 17.20, 17.10],\n",
    "    'PrecoOriginal': [17.50,17.50,17.50,17.50,17.50],\n",
    "    'Desconto': [0,0.1,0.2,0.3,0.4]\n",
    "}\n",
    "\n",
    "valores = pd.DataFrame(valores)"
   ]
  },
  {
   "cell_type": "code",
   "execution_count": 65,
   "id": "ac1c8906",
   "metadata": {},
   "outputs": [
    {
     "data": {
      "text/plain": [
       "array([1051.50472554, 1054.604863  , 1057.70500045, 1060.8051379 ,\n",
       "       1063.90527536])"
      ]
     },
     "execution_count": 65,
     "metadata": {},
     "output_type": "execute_result"
    }
   ],
   "source": [
    "# Fazendo a predição\n",
    "reg2.predict(valores[[\"PrecoOriginal\",\"Desconto\"]])"
   ]
  },
  {
   "cell_type": "markdown",
   "id": "5bb40519",
   "metadata": {},
   "source": [
    "### Analisando erros\n"
   ]
  },
  {
   "cell_type": "code",
   "execution_count": 68,
   "id": "a9e44ee3",
   "metadata": {},
   "outputs": [
    {
     "data": {
      "text/html": [
       "<div>\n",
       "<style scoped>\n",
       "    .dataframe tbody tr th:only-of-type {\n",
       "        vertical-align: middle;\n",
       "    }\n",
       "\n",
       "    .dataframe tbody tr th {\n",
       "        vertical-align: top;\n",
       "    }\n",
       "\n",
       "    .dataframe thead th {\n",
       "        text-align: right;\n",
       "    }\n",
       "</style>\n",
       "<table border=\"1\" class=\"dataframe\">\n",
       "  <thead>\n",
       "    <tr style=\"text-align: right;\">\n",
       "      <th></th>\n",
       "      <th>IDRegistro</th>\n",
       "      <th>PrecoVenda</th>\n",
       "      <th>PrecoOriginal</th>\n",
       "      <th>Desconto</th>\n",
       "      <th>VendaQtd</th>\n",
       "      <th>y_model1</th>\n",
       "      <th>y_model2</th>\n",
       "    </tr>\n",
       "  </thead>\n",
       "  <tbody>\n",
       "    <tr>\n",
       "      <th>108</th>\n",
       "      <td>109</td>\n",
       "      <td>16.83</td>\n",
       "      <td>17</td>\n",
       "      <td>0.17</td>\n",
       "      <td>1148</td>\n",
       "      <td>690.157416</td>\n",
       "      <td>1148.274831</td>\n",
       "    </tr>\n",
       "    <tr>\n",
       "      <th>284</th>\n",
       "      <td>285</td>\n",
       "      <td>16.66</td>\n",
       "      <td>17</td>\n",
       "      <td>0.34</td>\n",
       "      <td>1154</td>\n",
       "      <td>723.196118</td>\n",
       "      <td>1153.545065</td>\n",
       "    </tr>\n",
       "    <tr>\n",
       "      <th>452</th>\n",
       "      <td>453</td>\n",
       "      <td>18.00</td>\n",
       "      <td>18</td>\n",
       "      <td>0.00</td>\n",
       "      <td>960</td>\n",
       "      <td>462.773410</td>\n",
       "      <td>960.004854</td>\n",
       "    </tr>\n",
       "    <tr>\n",
       "      <th>989</th>\n",
       "      <td>990</td>\n",
       "      <td>16.83</td>\n",
       "      <td>17</td>\n",
       "      <td>0.17</td>\n",
       "      <td>1148</td>\n",
       "      <td>690.157416</td>\n",
       "      <td>1148.274831</td>\n",
       "    </tr>\n",
       "    <tr>\n",
       "      <th>998</th>\n",
       "      <td>999</td>\n",
       "      <td>16.83</td>\n",
       "      <td>17</td>\n",
       "      <td>0.17</td>\n",
       "      <td>1148</td>\n",
       "      <td>690.157416</td>\n",
       "      <td>1148.274831</td>\n",
       "    </tr>\n",
       "    <tr>\n",
       "      <th>1115</th>\n",
       "      <td>1116</td>\n",
       "      <td>17.82</td>\n",
       "      <td>18</td>\n",
       "      <td>0.18</td>\n",
       "      <td>966</td>\n",
       "      <td>497.755565</td>\n",
       "      <td>965.585101</td>\n",
       "    </tr>\n",
       "    <tr>\n",
       "      <th>1220</th>\n",
       "      <td>1221</td>\n",
       "      <td>17.64</td>\n",
       "      <td>18</td>\n",
       "      <td>0.36</td>\n",
       "      <td>971</td>\n",
       "      <td>532.737719</td>\n",
       "      <td>971.165348</td>\n",
       "    </tr>\n",
       "    <tr>\n",
       "      <th>1539</th>\n",
       "      <td>1540</td>\n",
       "      <td>16.66</td>\n",
       "      <td>17</td>\n",
       "      <td>0.34</td>\n",
       "      <td>1154</td>\n",
       "      <td>723.196118</td>\n",
       "      <td>1153.545065</td>\n",
       "    </tr>\n",
       "    <tr>\n",
       "      <th>1548</th>\n",
       "      <td>1549</td>\n",
       "      <td>16.66</td>\n",
       "      <td>17</td>\n",
       "      <td>0.34</td>\n",
       "      <td>1154</td>\n",
       "      <td>723.196118</td>\n",
       "      <td>1153.545065</td>\n",
       "    </tr>\n",
       "    <tr>\n",
       "      <th>1576</th>\n",
       "      <td>1577</td>\n",
       "      <td>16.83</td>\n",
       "      <td>17</td>\n",
       "      <td>0.17</td>\n",
       "      <td>1148</td>\n",
       "      <td>690.157416</td>\n",
       "      <td>1148.274831</td>\n",
       "    </tr>\n",
       "  </tbody>\n",
       "</table>\n",
       "</div>"
      ],
      "text/plain": [
       "      IDRegistro  PrecoVenda  PrecoOriginal  Desconto  VendaQtd    y_model1  \\\n",
       "108          109       16.83             17      0.17      1148  690.157416   \n",
       "284          285       16.66             17      0.34      1154  723.196118   \n",
       "452          453       18.00             18      0.00       960  462.773410   \n",
       "989          990       16.83             17      0.17      1148  690.157416   \n",
       "998          999       16.83             17      0.17      1148  690.157416   \n",
       "1115        1116       17.82             18      0.18       966  497.755565   \n",
       "1220        1221       17.64             18      0.36       971  532.737719   \n",
       "1539        1540       16.66             17      0.34      1154  723.196118   \n",
       "1548        1549       16.66             17      0.34      1154  723.196118   \n",
       "1576        1577       16.83             17      0.17      1148  690.157416   \n",
       "\n",
       "         y_model2  \n",
       "108   1148.274831  \n",
       "284   1153.545065  \n",
       "452    960.004854  \n",
       "989   1148.274831  \n",
       "998   1148.274831  \n",
       "1115   965.585101  \n",
       "1220   971.165348  \n",
       "1539  1153.545065  \n",
       "1548  1153.545065  \n",
       "1576  1148.274831  "
      ]
     },
     "execution_count": 68,
     "metadata": {},
     "output_type": "execute_result"
    }
   ],
   "source": [
    "# Verificando novamente os dados para comparar com os modelos\n",
    "dados[(dados.PrecoOriginal >= 17) & (dados.PrecoOriginal <= 18) & (dados.Desconto >= 0) & (dados.Desconto <= 0.4)]"
   ]
  },
  {
   "cell_type": "markdown",
   "id": "d49dccaf",
   "metadata": {},
   "source": [
    "### Adicionando coluna com a predicao 1 e predicao 2"
   ]
  },
  {
   "cell_type": "code",
   "execution_count": 70,
   "id": "3252a916",
   "metadata": {},
   "outputs": [
    {
     "data": {
      "text/html": [
       "<div>\n",
       "<style scoped>\n",
       "    .dataframe tbody tr th:only-of-type {\n",
       "        vertical-align: middle;\n",
       "    }\n",
       "\n",
       "    .dataframe tbody tr th {\n",
       "        vertical-align: top;\n",
       "    }\n",
       "\n",
       "    .dataframe thead th {\n",
       "        text-align: right;\n",
       "    }\n",
       "</style>\n",
       "<table border=\"1\" class=\"dataframe\">\n",
       "  <thead>\n",
       "    <tr style=\"text-align: right;\">\n",
       "      <th></th>\n",
       "      <th>IDRegistro</th>\n",
       "      <th>PrecoVenda</th>\n",
       "      <th>PrecoOriginal</th>\n",
       "      <th>Desconto</th>\n",
       "      <th>VendaQtd</th>\n",
       "      <th>y_model1</th>\n",
       "      <th>y_model2</th>\n",
       "    </tr>\n",
       "  </thead>\n",
       "  <tbody>\n",
       "    <tr>\n",
       "      <th>0</th>\n",
       "      <td>1</td>\n",
       "      <td>21.85</td>\n",
       "      <td>23</td>\n",
       "      <td>1.15</td>\n",
       "      <td>81</td>\n",
       "      <td>-285.456012</td>\n",
       "      <td>80.657715</td>\n",
       "    </tr>\n",
       "    <tr>\n",
       "      <th>1</th>\n",
       "      <td>2</td>\n",
       "      <td>4.30</td>\n",
       "      <td>5</td>\n",
       "      <td>0.70</td>\n",
       "      <td>3361</td>\n",
       "      <td>3125.304081</td>\n",
       "      <td>3360.702487</td>\n",
       "    </tr>\n",
       "    <tr>\n",
       "      <th>2</th>\n",
       "      <td>3</td>\n",
       "      <td>13.65</td>\n",
       "      <td>15</td>\n",
       "      <td>1.35</td>\n",
       "      <td>1551</td>\n",
       "      <td>1308.175484</td>\n",
       "      <td>1550.855941</td>\n",
       "    </tr>\n",
       "    <tr>\n",
       "      <th>3</th>\n",
       "      <td>4</td>\n",
       "      <td>4.97</td>\n",
       "      <td>7</td>\n",
       "      <td>2.03</td>\n",
       "      <td>3036</td>\n",
       "      <td>2995.092727</td>\n",
       "      <td>3035.934827</td>\n",
       "    </tr>\n",
       "    <tr>\n",
       "      <th>4</th>\n",
       "      <td>5</td>\n",
       "      <td>9.60</td>\n",
       "      <td>10</td>\n",
       "      <td>0.40</td>\n",
       "      <td>2436</td>\n",
       "      <td>2095.273967</td>\n",
       "      <td>2436.403355</td>\n",
       "    </tr>\n",
       "  </tbody>\n",
       "</table>\n",
       "</div>"
      ],
      "text/plain": [
       "   IDRegistro  PrecoVenda  PrecoOriginal  Desconto  VendaQtd     y_model1  \\\n",
       "0           1       21.85             23      1.15        81  -285.456012   \n",
       "1           2        4.30              5      0.70      3361  3125.304081   \n",
       "2           3       13.65             15      1.35      1551  1308.175484   \n",
       "3           4        4.97              7      2.03      3036  2995.092727   \n",
       "4           5        9.60             10      0.40      2436  2095.273967   \n",
       "\n",
       "      y_model2  \n",
       "0    80.657715  \n",
       "1  3360.702487  \n",
       "2  1550.855941  \n",
       "3  3035.934827  \n",
       "4  2436.403355  "
      ]
     },
     "execution_count": 70,
     "metadata": {},
     "output_type": "execute_result"
    }
   ],
   "source": [
    "# Notamos que a predição 1 errou e a predicao 2 acertou mais\n",
    "\n",
    "dados['y_model1'] = reg.predict(dados.PrecoVenda.values.reshape(-1, 1))\n",
    "dados['y_model2'] = reg2.predict(dados[[\"PrecoOriginal\",\"Desconto\"]])\n",
    "dados.head()"
   ]
  },
  {
   "cell_type": "markdown",
   "id": "4d80963d",
   "metadata": {},
   "source": [
    "### Mas acima so temos as 5 primeiros linhas, queremos ver os erros em todos os itens\n",
    "##### Vamos usar o erro medio absoluto\n"
   ]
  },
  {
   "cell_type": "code",
   "execution_count": 72,
   "id": "1c99a216",
   "metadata": {},
   "outputs": [],
   "source": [
    "from sklearn.metrics import mean_absolute_error"
   ]
  },
  {
   "cell_type": "markdown",
   "id": "54ac2819",
   "metadata": {},
   "source": [
    "##### Vamos passar como paremetro os dados verdadeiros e os dados que foram previstos"
   ]
  },
  {
   "cell_type": "code",
   "execution_count": 73,
   "id": "536a55af",
   "metadata": {},
   "outputs": [
    {
     "data": {
      "text/plain": [
       "254.3109951899015"
      ]
     },
     "execution_count": 73,
     "metadata": {},
     "output_type": "execute_result"
    }
   ],
   "source": [
    "# para o modelo 1\n",
    "mean_absolute_error(dados.VendaQtd, dados.y_model1)"
   ]
  },
  {
   "cell_type": "code",
   "execution_count": 74,
   "id": "a45ea876",
   "metadata": {},
   "outputs": [
    {
     "data": {
      "text/plain": [
       "0.24931777290881982"
      ]
     },
     "execution_count": 74,
     "metadata": {},
     "output_type": "execute_result"
    }
   ],
   "source": [
    "# para o modelo 2\n",
    "mean_absolute_error(dados.VendaQtd, dados.y_model2)"
   ]
  },
  {
   "cell_type": "markdown",
   "id": "e1412a6f",
   "metadata": {},
   "source": [
    "#### Notamos que o erro 2 é minimo, enquanto o 1 é grande"
   ]
  },
  {
   "cell_type": "markdown",
   "id": "d2a114f4",
   "metadata": {},
   "source": [
    "### Fazendo o erro medio absoluto por Porcentagem"
   ]
  },
  {
   "cell_type": "code",
   "execution_count": 77,
   "id": "656dfe54",
   "metadata": {},
   "outputs": [],
   "source": [
    "from sklearn.metrics import mean_absolute_percentage_error"
   ]
  },
  {
   "cell_type": "code",
   "execution_count": 78,
   "id": "622b6688",
   "metadata": {},
   "outputs": [
    {
     "data": {
      "text/plain": [
       "33.713612693046215"
      ]
     },
     "execution_count": 78,
     "metadata": {},
     "output_type": "execute_result"
    }
   ],
   "source": [
    "# para o modelo 1\n",
    "mean_absolute_percentage_error(dados.VendaQtd, dados.y_model1)*100"
   ]
  },
  {
   "cell_type": "code",
   "execution_count": 79,
   "id": "44597e69",
   "metadata": {},
   "outputs": [
    {
     "data": {
      "text/plain": [
       "0.027306697265631803"
      ]
     },
     "execution_count": 79,
     "metadata": {},
     "output_type": "execute_result"
    }
   ],
   "source": [
    "# para o modelo 2\n",
    "mean_absolute_percentage_error(dados.VendaQtd, dados.y_model2)*100"
   ]
  }
 ],
 "metadata": {
  "kernelspec": {
   "display_name": "Python 3 (ipykernel)",
   "language": "python",
   "name": "python3"
  },
  "language_info": {
   "codemirror_mode": {
    "name": "ipython",
    "version": 3
   },
   "file_extension": ".py",
   "mimetype": "text/x-python",
   "name": "python",
   "nbconvert_exporter": "python",
   "pygments_lexer": "ipython3",
   "version": "3.11.5"
  }
 },
 "nbformat": 4,
 "nbformat_minor": 5
}
