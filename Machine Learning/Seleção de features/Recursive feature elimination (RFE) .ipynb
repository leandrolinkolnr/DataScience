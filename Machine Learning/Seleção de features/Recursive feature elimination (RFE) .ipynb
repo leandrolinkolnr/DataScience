{
 "cells": [
  {
   "cell_type": "markdown",
   "id": "d648c738",
   "metadata": {},
   "source": [
    "## RFE (Recursive feature elimination)\n",
    "\n",
    "- Começa treinando o estimador na base completa e depois **elimina recursivamente os recursos** até chegar na quantidade de recursos desejados\n",
    "    - O processo que ele executa basicamente é:\n",
    "        - 1. Faz o fit do modelo com a base completa\n",
    "        - 2. **Elimina aquele recurso com menor importância (menor coeficiente)**\n",
    "        - 3. **Faz um novo fit agora com a nova base**\n",
    "        - 4. Repete os passos 2 e 3 até chegar no número de recursos desejados\n",
    "    - Para grandes bases de dados, o **tempo de processamento** aumenta muito\n",
    "- Vai utilizar um **estimador externo que atribui pesos aos recursos**\n",
    "    - Vamos utilizar **algoritmos que já possuem cálculos da importância das features** (como **coef_** e **feature_importances_**)"
   ]
  },
  {
   "cell_type": "code",
   "execution_count": 1,
   "id": "0b20798c",
   "metadata": {},
   "outputs": [],
   "source": [
    "# Importando o dataset iris\n",
    "from sklearn.datasets import load_iris"
   ]
  },
  {
   "cell_type": "code",
   "execution_count": 2,
   "id": "9d2e0ca5",
   "metadata": {},
   "outputs": [],
   "source": [
    "# Importando X e y\n",
    "X_iris,y_iris = load_iris(return_X_y=True,as_frame=True)"
   ]
  },
  {
   "cell_type": "code",
   "execution_count": 3,
   "id": "addaa046",
   "metadata": {},
   "outputs": [
    {
     "data": {
      "text/html": [
       "<div>\n",
       "<style scoped>\n",
       "    .dataframe tbody tr th:only-of-type {\n",
       "        vertical-align: middle;\n",
       "    }\n",
       "\n",
       "    .dataframe tbody tr th {\n",
       "        vertical-align: top;\n",
       "    }\n",
       "\n",
       "    .dataframe thead th {\n",
       "        text-align: right;\n",
       "    }\n",
       "</style>\n",
       "<table border=\"1\" class=\"dataframe\">\n",
       "  <thead>\n",
       "    <tr style=\"text-align: right;\">\n",
       "      <th></th>\n",
       "      <th>sepal length (cm)</th>\n",
       "      <th>sepal width (cm)</th>\n",
       "      <th>petal length (cm)</th>\n",
       "      <th>petal width (cm)</th>\n",
       "    </tr>\n",
       "  </thead>\n",
       "  <tbody>\n",
       "    <tr>\n",
       "      <th>0</th>\n",
       "      <td>5.1</td>\n",
       "      <td>3.5</td>\n",
       "      <td>1.4</td>\n",
       "      <td>0.2</td>\n",
       "    </tr>\n",
       "    <tr>\n",
       "      <th>1</th>\n",
       "      <td>4.9</td>\n",
       "      <td>3.0</td>\n",
       "      <td>1.4</td>\n",
       "      <td>0.2</td>\n",
       "    </tr>\n",
       "    <tr>\n",
       "      <th>2</th>\n",
       "      <td>4.7</td>\n",
       "      <td>3.2</td>\n",
       "      <td>1.3</td>\n",
       "      <td>0.2</td>\n",
       "    </tr>\n",
       "  </tbody>\n",
       "</table>\n",
       "</div>"
      ],
      "text/plain": [
       "   sepal length (cm)  sepal width (cm)  petal length (cm)  petal width (cm)\n",
       "0                5.1               3.5                1.4               0.2\n",
       "1                4.9               3.0                1.4               0.2\n",
       "2                4.7               3.2                1.3               0.2"
      ]
     },
     "execution_count": 3,
     "metadata": {},
     "output_type": "execute_result"
    }
   ],
   "source": [
    "# Visualizando X\n",
    "X_iris.head(3)"
   ]
  },
  {
   "cell_type": "markdown",
   "id": "a3b7fa92",
   "metadata": {},
   "source": [
    "## Vamos  utilizar a Árvore de Decisão"
   ]
  },
  {
   "cell_type": "code",
   "execution_count": 4,
   "id": "53750414",
   "metadata": {},
   "outputs": [],
   "source": [
    "# Importando a Árvore de Decisão\n",
    "from sklearn.tree import DecisionTreeClassifier"
   ]
  },
  {
   "cell_type": "code",
   "execution_count": 5,
   "id": "814e22d6",
   "metadata": {},
   "outputs": [],
   "source": [
    "# Criando o classificador\n",
    "clf = DecisionTreeClassifier(random_state=0)"
   ]
  },
  {
   "cell_type": "code",
   "execution_count": 6,
   "id": "da34fb51",
   "metadata": {},
   "outputs": [],
   "source": [
    "# Fazendo o fit com os dados\n",
    "clf = clf.fit(X_iris,y_iris)"
   ]
  },
  {
   "cell_type": "code",
   "execution_count": 7,
   "id": "e8272fbe",
   "metadata": {},
   "outputs": [
    {
     "data": {
      "text/plain": [
       "array([0.        , 0.01333333, 0.06405596, 0.92261071])"
      ]
     },
     "execution_count": 7,
     "metadata": {},
     "output_type": "execute_result"
    }
   ],
   "source": [
    "# Verificando a importância de cada uma das features\n",
    "clf.feature_importances_"
   ]
  },
  {
   "cell_type": "code",
   "execution_count": null,
   "id": "e5bb0081",
   "metadata": {},
   "outputs": [],
   "source": []
  },
  {
   "cell_type": "markdown",
   "id": "3bc78840",
   "metadata": {},
   "source": [
    "## Utilizando o RFE"
   ]
  },
  {
   "cell_type": "code",
   "execution_count": 9,
   "id": "b8445201",
   "metadata": {},
   "outputs": [],
   "source": [
    "# Importando o RFE\n",
    "from sklearn.feature_selection import RFE"
   ]
  },
  {
   "cell_type": "code",
   "execution_count": 10,
   "id": "1f1dd711",
   "metadata": {},
   "outputs": [],
   "source": [
    "# Selecionando a árvore de decisão como estimador\n",
    "estimator = DecisionTreeClassifier(random_state=0)"
   ]
  },
  {
   "cell_type": "markdown",
   "id": "6c48453f",
   "metadata": {},
   "source": [
    "### Criando nosso seletor"
   ]
  },
  {
   "cell_type": "code",
   "execution_count": 14,
   "id": "d32e39f9",
   "metadata": {},
   "outputs": [],
   "source": [
    "# Estimador = o modelo que estamos utilizando\n",
    "# n_features_to_select = Quantas features selecionar\n",
    "# step= Quantas features eleiminar pra cada recursao? Alterar em conjuntos de dados grandes\n",
    "\n",
    "selector = RFE(estimator, n_features_to_select=2, step=1)"
   ]
  },
  {
   "cell_type": "code",
   "execution_count": 15,
   "id": "5612a81b",
   "metadata": {},
   "outputs": [],
   "source": [
    "# Fazendo o fit com os dados\n",
    "selector = selector.fit(X_iris,y_iris)"
   ]
  },
  {
   "cell_type": "code",
   "execution_count": 16,
   "id": "be1cb182",
   "metadata": {},
   "outputs": [
    {
     "data": {
      "text/plain": [
       "array([3, 2, 1, 1])"
      ]
     },
     "execution_count": 16,
     "metadata": {},
     "output_type": "execute_result"
    }
   ],
   "source": [
    "# Verificando o ranking de importancia\n",
    "selector.ranking_"
   ]
  },
  {
   "cell_type": "markdown",
   "id": "2d869011",
   "metadata": {},
   "source": [
    "### As features selecionadas (as melhores estimadas) recebem classificação 1"
   ]
  }
 ],
 "metadata": {
  "kernelspec": {
   "display_name": "Python 3 (ipykernel)",
   "language": "python",
   "name": "python3"
  },
  "language_info": {
   "codemirror_mode": {
    "name": "ipython",
    "version": 3
   },
   "file_extension": ".py",
   "mimetype": "text/x-python",
   "name": "python",
   "nbconvert_exporter": "python",
   "pygments_lexer": "ipython3",
   "version": "3.11.5"
  }
 },
 "nbformat": 4,
 "nbformat_minor": 5
}
