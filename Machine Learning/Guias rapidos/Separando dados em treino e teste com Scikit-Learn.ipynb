{
 "cells": [
  {
   "cell_type": "markdown",
   "id": "82eed436",
   "metadata": {},
   "source": [
    "# Separando os dados em treino e teste\n",
    "    - Vamos usar os dados do passado para criar um modelo e então vamos usar esse modelo para fazer previsões sobre o futuro"
   ]
  },
  {
   "cell_type": "markdown",
   "id": "b845b653",
   "metadata": {},
   "source": [
    "### Para fazer isso, podemos usar o train_test_split do Scikit-Learn\n",
    "- https://scikit-learn.org/stable/modules/generated/sklearn.model_selection.train_test_split.html"
   ]
  },
  {
   "cell_type": "code",
   "execution_count": 2,
   "id": "774e6ec2",
   "metadata": {},
   "outputs": [],
   "source": [
    "from sklearn.model_selection import train_test_split"
   ]
  },
  {
   "cell_type": "code",
   "execution_count": 8,
   "id": "93ad3eda",
   "metadata": {},
   "outputs": [
    {
     "data": {
      "text/html": [
       "<div>\n",
       "<style scoped>\n",
       "    .dataframe tbody tr th:only-of-type {\n",
       "        vertical-align: middle;\n",
       "    }\n",
       "\n",
       "    .dataframe tbody tr th {\n",
       "        vertical-align: top;\n",
       "    }\n",
       "\n",
       "    .dataframe thead th {\n",
       "        text-align: right;\n",
       "    }\n",
       "</style>\n",
       "<table border=\"1\" class=\"dataframe\">\n",
       "  <thead>\n",
       "    <tr style=\"text-align: right;\">\n",
       "      <th></th>\n",
       "      <th>SaldoConta</th>\n",
       "      <th>SaldoInvestimento</th>\n",
       "      <th>Situacao</th>\n",
       "    </tr>\n",
       "  </thead>\n",
       "  <tbody>\n",
       "    <tr>\n",
       "      <th>0</th>\n",
       "      <td>-1.365390</td>\n",
       "      <td>-3.280278</td>\n",
       "      <td>0</td>\n",
       "    </tr>\n",
       "    <tr>\n",
       "      <th>1</th>\n",
       "      <td>-1.992492</td>\n",
       "      <td>-4.158429</td>\n",
       "      <td>0</td>\n",
       "    </tr>\n",
       "    <tr>\n",
       "      <th>2</th>\n",
       "      <td>-3.910816</td>\n",
       "      <td>-0.874096</td>\n",
       "      <td>0</td>\n",
       "    </tr>\n",
       "  </tbody>\n",
       "</table>\n",
       "</div>"
      ],
      "text/plain": [
       "   SaldoConta  SaldoInvestimento  Situacao\n",
       "0   -1.365390          -3.280278         0\n",
       "1   -1.992492          -4.158429         0\n",
       "2   -3.910816          -0.874096         0"
      ]
     },
     "execution_count": 8,
     "metadata": {},
     "output_type": "execute_result"
    }
   ],
   "source": [
    "import pandas as pd\n",
    "base = pd.read_excel(\"BaseInadimplencia.xlsx\")\n",
    "base.head(3)"
   ]
  },
  {
   "cell_type": "markdown",
   "id": "8768f220",
   "metadata": {},
   "source": [
    "## Definindo X e Y"
   ]
  },
  {
   "cell_type": "code",
   "execution_count": 9,
   "id": "8e5a4f27",
   "metadata": {},
   "outputs": [],
   "source": [
    "X = base[['SaldoConta','SaldoInvestimento']]\n",
    "y = base['Situacao']"
   ]
  },
  {
   "cell_type": "markdown",
   "id": "72055f76",
   "metadata": {},
   "source": [
    "## Usando Scikit-Learn para separar a base em treino e teste"
   ]
  },
  {
   "cell_type": "code",
   "execution_count": 10,
   "id": "fa1bbb48",
   "metadata": {},
   "outputs": [],
   "source": [
    "X_train, X_test, y_train, y_test = train_test_split(X, y, test_size=0.33, random_state=42)"
   ]
  },
  {
   "cell_type": "markdown",
   "id": "05cda2c1",
   "metadata": {},
   "source": [
    "### Verificando tramanho do treino e teste \n",
    "##### (foram definidos acima em %)"
   ]
  },
  {
   "cell_type": "code",
   "execution_count": 6,
   "id": "80cf5c26",
   "metadata": {},
   "outputs": [
    {
     "data": {
      "text/plain": [
       "(670, 2)"
      ]
     },
     "execution_count": 6,
     "metadata": {},
     "output_type": "execute_result"
    }
   ],
   "source": [
    "X_train.shape"
   ]
  },
  {
   "cell_type": "code",
   "execution_count": 7,
   "id": "e32b1564",
   "metadata": {},
   "outputs": [
    {
     "data": {
      "text/plain": [
       "(330, 2)"
      ]
     },
     "execution_count": 7,
     "metadata": {},
     "output_type": "execute_result"
    }
   ],
   "source": [
    "X_test.shape"
   ]
  }
 ],
 "metadata": {
  "kernelspec": {
   "display_name": "Python 3 (ipykernel)",
   "language": "python",
   "name": "python3"
  },
  "language_info": {
   "codemirror_mode": {
    "name": "ipython",
    "version": 3
   },
   "file_extension": ".py",
   "mimetype": "text/x-python",
   "name": "python",
   "nbconvert_exporter": "python",
   "pygments_lexer": "ipython3",
   "version": "3.11.5"
  }
 },
 "nbformat": 4,
 "nbformat_minor": 5
}
