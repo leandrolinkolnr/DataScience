{
 "cells": [
  {
   "cell_type": "markdown",
   "id": "fde68e5d",
   "metadata": {},
   "source": [
    "# Classificação com SVM (SVC)\n",
    "\n",
    "\n",
    "#### Utilizaremos o Iris Dataset"
   ]
  },
  {
   "cell_type": "code",
   "execution_count": 5,
   "id": "1fab7d33",
   "metadata": {},
   "outputs": [],
   "source": [
    "from sklearn.datasets import load_iris"
   ]
  },
  {
   "cell_type": "code",
   "execution_count": 6,
   "id": "d1d487ca",
   "metadata": {},
   "outputs": [
    {
     "data": {
      "text/html": [
       "<div>\n",
       "<style scoped>\n",
       "    .dataframe tbody tr th:only-of-type {\n",
       "        vertical-align: middle;\n",
       "    }\n",
       "\n",
       "    .dataframe tbody tr th {\n",
       "        vertical-align: top;\n",
       "    }\n",
       "\n",
       "    .dataframe thead th {\n",
       "        text-align: right;\n",
       "    }\n",
       "</style>\n",
       "<table border=\"1\" class=\"dataframe\">\n",
       "  <thead>\n",
       "    <tr style=\"text-align: right;\">\n",
       "      <th></th>\n",
       "      <th>sepal length (cm)</th>\n",
       "      <th>sepal width (cm)</th>\n",
       "      <th>petal length (cm)</th>\n",
       "      <th>petal width (cm)</th>\n",
       "      <th>type</th>\n",
       "    </tr>\n",
       "  </thead>\n",
       "  <tbody>\n",
       "    <tr>\n",
       "      <th>0</th>\n",
       "      <td>5.1</td>\n",
       "      <td>3.5</td>\n",
       "      <td>1.4</td>\n",
       "      <td>0.2</td>\n",
       "      <td>0</td>\n",
       "    </tr>\n",
       "    <tr>\n",
       "      <th>1</th>\n",
       "      <td>4.9</td>\n",
       "      <td>3.0</td>\n",
       "      <td>1.4</td>\n",
       "      <td>0.2</td>\n",
       "      <td>0</td>\n",
       "    </tr>\n",
       "    <tr>\n",
       "      <th>2</th>\n",
       "      <td>4.7</td>\n",
       "      <td>3.2</td>\n",
       "      <td>1.3</td>\n",
       "      <td>0.2</td>\n",
       "      <td>0</td>\n",
       "    </tr>\n",
       "  </tbody>\n",
       "</table>\n",
       "</div>"
      ],
      "text/plain": [
       "   sepal length (cm)  sepal width (cm)  petal length (cm)  petal width (cm)  \\\n",
       "0                5.1               3.5                1.4               0.2   \n",
       "1                4.9               3.0                1.4               0.2   \n",
       "2                4.7               3.2                1.3               0.2   \n",
       "\n",
       "   type  \n",
       "0     0  \n",
       "1     0  \n",
       "2     0  "
      ]
     },
     "execution_count": 6,
     "metadata": {},
     "output_type": "execute_result"
    }
   ],
   "source": [
    "df = load_iris(as_frame = True)['data']\n",
    "df['type'] = load_iris(as_frame = True)['target']\n",
    "\n",
    "df.head(3)"
   ]
  },
  {
   "cell_type": "markdown",
   "id": "31ac01ed",
   "metadata": {},
   "source": [
    "### Separando X e Y"
   ]
  },
  {
   "cell_type": "code",
   "execution_count": 7,
   "id": "1ee03466",
   "metadata": {},
   "outputs": [],
   "source": [
    "X = load_iris(as_frame = True)['data']\n",
    "y = load_iris(as_frame = True)['target']"
   ]
  },
  {
   "cell_type": "markdown",
   "id": "95d4d97f",
   "metadata": {},
   "source": [
    "### Treino e teste"
   ]
  },
  {
   "cell_type": "code",
   "execution_count": 8,
   "id": "35a289cd",
   "metadata": {},
   "outputs": [],
   "source": [
    "from sklearn.model_selection import train_test_split"
   ]
  },
  {
   "cell_type": "code",
   "execution_count": 9,
   "id": "5a77551c",
   "metadata": {},
   "outputs": [],
   "source": [
    "X_train, X_test, y_train, y_test = train_test_split(X, y, test_size=0.5, random_state=0)"
   ]
  },
  {
   "cell_type": "markdown",
   "id": "ce8cfe55",
   "metadata": {},
   "source": [
    "### Classificando com SVC"
   ]
  },
  {
   "cell_type": "code",
   "execution_count": 11,
   "id": "5f3ec0e2",
   "metadata": {},
   "outputs": [],
   "source": [
    "from sklearn.svm import SVC"
   ]
  },
  {
   "cell_type": "code",
   "execution_count": 12,
   "id": "e8624256",
   "metadata": {},
   "outputs": [],
   "source": [
    "# estrategia one vs one\n",
    "\n",
    "clf = SVC(decision_function_shape='ovo')"
   ]
  },
  {
   "cell_type": "markdown",
   "id": "4b9e83db",
   "metadata": {},
   "source": [
    "### Treinando e fazendo previsao"
   ]
  },
  {
   "cell_type": "code",
   "execution_count": 14,
   "id": "b29fdc1e",
   "metadata": {},
   "outputs": [],
   "source": [
    "clf_treinado = clf.fit(X_train, y_train)\n",
    "y_pred = clf_treinado.predict(X_test)"
   ]
  },
  {
   "cell_type": "markdown",
   "id": "d8fc59e5",
   "metadata": {},
   "source": [
    "## Avaliando o modelo com a precisao"
   ]
  },
  {
   "cell_type": "code",
   "execution_count": 16,
   "id": "1092b339",
   "metadata": {},
   "outputs": [],
   "source": [
    "from sklearn.metrics import precision_score"
   ]
  },
  {
   "cell_type": "code",
   "execution_count": 20,
   "id": "e0ce6ce3",
   "metadata": {},
   "outputs": [
    {
     "data": {
      "text/plain": [
       "0.9466666666666667"
      ]
     },
     "execution_count": 20,
     "metadata": {},
     "output_type": "execute_result"
    }
   ],
   "source": [
    "precision_score(y_test , y_pred, average='micro')"
   ]
  }
 ],
 "metadata": {
  "kernelspec": {
   "display_name": "Python 3 (ipykernel)",
   "language": "python",
   "name": "python3"
  },
  "language_info": {
   "codemirror_mode": {
    "name": "ipython",
    "version": 3
   },
   "file_extension": ".py",
   "mimetype": "text/x-python",
   "name": "python",
   "nbconvert_exporter": "python",
   "pygments_lexer": "ipython3",
   "version": "3.11.5"
  }
 },
 "nbformat": 4,
 "nbformat_minor": 5
}
