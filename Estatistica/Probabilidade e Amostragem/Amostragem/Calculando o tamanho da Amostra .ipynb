{
 "cells": [
  {
   "cell_type": "markdown",
   "id": "8be01d87",
   "metadata": {},
   "source": [
    "# Calculando o tamanho da Amostra (População infinita)"
   ]
  },
  {
   "cell_type": "code",
   "execution_count": 4,
   "id": "e629d958",
   "metadata": {},
   "outputs": [],
   "source": [
    "import pandas as pd\n",
    "import numpy as np\n",
    "from scipy.stats import norm"
   ]
  },
  {
   "cell_type": "markdown",
   "id": "29e6a32f",
   "metadata": {},
   "source": [
    "## <font color='red'>Problema </font>\n",
    "\n",
    "Estamos estudando o rendimento mensal dos chefes de domicílios com renda até R$\\$$ 5.000,00 no Brasil. Nosso supervisor determinou que o **erro máximo em relação a média seja de R$\\$$ 10,00**. Sabemos que o **desvio padrão populacional** deste grupo de trabalhadores é de **R$\\$$ 1.082,79**. Para um **nível de confiança de 95%**, qual deve ser o tamanho da amostra de nosso estudo?"
   ]
  },
  {
   "cell_type": "markdown",
   "id": "5789ee72",
   "metadata": {},
   "source": [
    "### <font color=green>Variáveis quantitativas e população infinita</font>\n",
    "***\n",
    "\n",
    "### $$e = z \\frac{\\sigma}{\\sqrt{n}}$$"
   ]
  },
  {
   "cell_type": "markdown",
   "id": "5376ef0f",
   "metadata": {},
   "source": [
    "#### Com desvio padrão conhecido\n",
    "\n",
    "## $$n = \\left(z\\frac{\\sigma}{e}\\right)^2$$\n",
    "\n",
    "#### Com desvio padrão desconhecido\n",
    "\n",
    "## $$n = \\left(z\\frac{s}{e}\\right)^2$$\n",
    "\n",
    "Onde:\n",
    "\n",
    "$z$ = variável normal padronizada\n",
    "\n",
    "$\\sigma$ = desvio padrão populacional\n",
    "\n",
    "$s$ = desvio padrão amostral\n",
    "\n",
    "$e$ = erro inferencial"
   ]
  },
  {
   "cell_type": "markdown",
   "id": "a333ca70",
   "metadata": {},
   "source": [
    "### <font color='red'>Observações</font>\n",
    "\n",
    "1. O desvio padrão ($\\sigma$ ou $s$) e o erro ($e$) devem estar na mesma unidade de medida.\n",
    "\n",
    "2. Quando o erro ($e$) for representado em termos percentuais, deve ser interpretado como um percentual relacionado à média."
   ]
  },
  {
   "cell_type": "markdown",
   "id": "fa7f9664",
   "metadata": {},
   "source": [
    "## <font color='blue'>Resolvendo: Rendimento médio</font>\n",
    "\n",
    "Estamos estudando o rendimento mensal dos chefes de domicílios no Brasil. Nosso supervisor determinou que o **erro máximo em relação a média seja de R$\\$$ 100,00**. Sabemos que o **desvio padrão populacional** deste grupo de trabalhadores é de **R$\\$$ 3.323,39**. Para um **nível de confiança de 95%**, qual deve ser o tamanho da amostra de nosso estudo?"
   ]
  },
  {
   "cell_type": "code",
   "execution_count": 9,
   "id": "7ad11fa7",
   "metadata": {},
   "outputs": [
    {
     "data": {
      "text/plain": [
       "0.475"
      ]
     },
     "execution_count": 9,
     "metadata": {},
     "output_type": "execute_result"
    }
   ],
   "source": [
    "# Quero so uma parte\n",
    "0.95 / 2"
   ]
  },
  {
   "cell_type": "code",
   "execution_count": 10,
   "id": "11d89708",
   "metadata": {},
   "outputs": [
    {
     "data": {
      "text/plain": [
       "0.975"
      ]
     },
     "execution_count": 10,
     "metadata": {},
     "output_type": "execute_result"
    }
   ],
   "source": [
    "# Somo com o pedacinho anterior\n",
    "0.5 + (0.95 / 2)"
   ]
  },
  {
   "cell_type": "code",
   "execution_count": 11,
   "id": "ee654ff2",
   "metadata": {},
   "outputs": [
    {
     "data": {
      "text/plain": [
       "1.959963984540054"
      ]
     },
     "execution_count": 11,
     "metadata": {},
     "output_type": "execute_result"
    }
   ],
   "source": [
    "#Obtendo z\n",
    "z = norm.ppf(0.975)\n",
    "z"
   ]
  },
  {
   "cell_type": "markdown",
   "id": "9cd10d1b",
   "metadata": {},
   "source": [
    "### Obtendo $\\sigma$"
   ]
  },
  {
   "cell_type": "code",
   "execution_count": 13,
   "id": "1fe61b07",
   "metadata": {},
   "outputs": [],
   "source": [
    "# Sigma dado no problema\n",
    "sigma = 3323.39"
   ]
  },
  {
   "cell_type": "markdown",
   "id": "8cf48fb9",
   "metadata": {},
   "source": [
    "### Obtendo $e$"
   ]
  },
  {
   "cell_type": "code",
   "execution_count": 14,
   "id": "84bad599",
   "metadata": {},
   "outputs": [],
   "source": [
    "# Dado no problema\n",
    "e = 100"
   ]
  },
  {
   "cell_type": "markdown",
   "id": "dac6eb30",
   "metadata": {},
   "source": [
    "### Obtendo $n$"
   ]
  },
  {
   "cell_type": "code",
   "execution_count": 16,
   "id": "7ca9511a",
   "metadata": {},
   "outputs": [
    {
     "data": {
      "text/plain": [
       "4243"
      ]
     },
     "execution_count": 16,
     "metadata": {},
     "output_type": "execute_result"
    }
   ],
   "source": [
    "# Aplicando a formula e obtendo o tamanho necessario da amostra\n",
    "n = (z * (sigma / e)) ** 2\n",
    "int(n.round())"
   ]
  },
  {
   "cell_type": "code",
   "execution_count": null,
   "id": "9b2c9e4f",
   "metadata": {},
   "outputs": [],
   "source": []
  },
  {
   "cell_type": "code",
   "execution_count": null,
   "id": "41664e1e",
   "metadata": {},
   "outputs": [],
   "source": []
  },
  {
   "cell_type": "markdown",
   "id": "95bb0e7b",
   "metadata": {},
   "source": [
    "# Calculando o tamanho da Amostra (População Finita)"
   ]
  },
  {
   "cell_type": "code",
   "execution_count": null,
   "id": "3ded2163",
   "metadata": {},
   "outputs": [],
   "source": []
  },
  {
   "cell_type": "code",
   "execution_count": null,
   "id": "b249eec7",
   "metadata": {},
   "outputs": [],
   "source": []
  },
  {
   "cell_type": "markdown",
   "id": "6449cf81",
   "metadata": {},
   "source": [
    "## <font color='red'>Problema</font>\n",
    "\n",
    "Em um lote de **10.000 latas** de refrigerante foi realizada uma amostra aleatória simples de **100 latas** e foi obtido o **desvio padrão amostral do conteúdo das latas igual a 12 ml**. O fabricante estipula um **erro máximo sobre a média populacional de apenas 5 ml**. Para garantir um **nível de confiança de 95%** qual o tamanho de amostra deve ser selecionado para este estudo?"
   ]
  },
  {
   "cell_type": "markdown",
   "id": "712dc3e1",
   "metadata": {},
   "source": [
    "### <font color=green>Variáveis quantitativas e população finita</font>\n",
    "***\n"
   ]
  },
  {
   "cell_type": "markdown",
   "id": "53cd86cb",
   "metadata": {},
   "source": [
    "#### Com desvio padrão conhecido\n",
    "\n",
    "## $$n = \\frac{z^2 \\sigma^2 N}{z^2 \\sigma^2 + e^2(N-1)}$$\n",
    "\n",
    "#### Com desvio padrão desconhecido\n",
    "\n",
    "## $$n = \\frac{z^2 s^2 N}{z^2 s^2 + e^2(N-1)}$$\n",
    "\n",
    "Onde:\n",
    "\n",
    "$N$ = tamanho da população\n",
    "\n",
    "$z$ = variável normal padronizada\n",
    "\n",
    "$\\sigma$ = desvio padrão populacional\n",
    "\n",
    "$s$ = desvio padrão amostral\n",
    "\n",
    "$e$ = erro inferencial"
   ]
  },
  {
   "cell_type": "markdown",
   "id": "24c49c54",
   "metadata": {},
   "source": [
    "## <font color='blue'>Resolvendo: Indústria de refrigerantes</font>"
   ]
  },
  {
   "cell_type": "markdown",
   "id": "04921b17",
   "metadata": {},
   "source": [
    "Em um lote de **10.000 latas** de refrigerante foi realizada uma amostra aleatória simples de **100 latas** e foi obtido o **desvio padrão amostral do conteúdo das latas igual a 12 ml**. O fabricante estipula um **erro máximo sobre a média populacional de apenas 5 ml**. Para garantir um **nível de confiança de 95%** qual o tamanho de amostra deve ser selecionado para este estudo?"
   ]
  },
  {
   "cell_type": "markdown",
   "id": "4f8d3dda",
   "metadata": {},
   "source": [
    "### Obtendo $N$ e $z$"
   ]
  },
  {
   "cell_type": "code",
   "execution_count": 21,
   "id": "7bd4c264",
   "metadata": {},
   "outputs": [],
   "source": [
    "# Dados na descrição\n",
    "N = 10000\n",
    "z = norm.ppf((0.5 + (0.95 / 2)))"
   ]
  },
  {
   "cell_type": "markdown",
   "id": "6301921d",
   "metadata": {},
   "source": [
    "### Obtendo $s$ e  $e$"
   ]
  },
  {
   "cell_type": "code",
   "execution_count": 22,
   "id": "a0bbda09",
   "metadata": {},
   "outputs": [],
   "source": [
    "# Dados na descrição\n",
    "\n",
    "s = 12\n",
    "e = 5"
   ]
  },
  {
   "cell_type": "markdown",
   "id": "f470432f",
   "metadata": {},
   "source": [
    "### Obtendo $n$\n",
    "\n",
    "### $$n = \\frac{z^2 s^2 N}{z^2 s^2 + e^2(N-1)}$$"
   ]
  },
  {
   "cell_type": "code",
   "execution_count": 23,
   "id": "c2b5d612",
   "metadata": {},
   "outputs": [
    {
     "data": {
      "text/plain": [
       "22"
      ]
     },
     "execution_count": 23,
     "metadata": {},
     "output_type": "execute_result"
    }
   ],
   "source": [
    "n = ((z**2) * (s**2) * (N)) / (((z**2) * (s**2)) + ((e**2) * (N - 1)))\n",
    "int(n.round())"
   ]
  },
  {
   "cell_type": "code",
   "execution_count": null,
   "id": "53af6c7f",
   "metadata": {},
   "outputs": [],
   "source": []
  }
 ],
 "metadata": {
  "kernelspec": {
   "display_name": "Python 3 (ipykernel)",
   "language": "python",
   "name": "python3"
  },
  "language_info": {
   "codemirror_mode": {
    "name": "ipython",
    "version": 3
   },
   "file_extension": ".py",
   "mimetype": "text/x-python",
   "name": "python",
   "nbconvert_exporter": "python",
   "pygments_lexer": "ipython3",
   "version": "3.11.4"
  }
 },
 "nbformat": 4,
 "nbformat_minor": 5
}
