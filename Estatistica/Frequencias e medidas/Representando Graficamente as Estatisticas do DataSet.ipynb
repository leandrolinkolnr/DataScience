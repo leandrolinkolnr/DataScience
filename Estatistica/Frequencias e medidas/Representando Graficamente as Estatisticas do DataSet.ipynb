{
 "cells": [
  {
   "cell_type": "markdown",
   "id": "78f7606e",
   "metadata": {},
   "source": [
    "# Representando Graficamente as Estatisticas do DataSet"
   ]
  },
  {
   "cell_type": "markdown",
   "id": "c84a0fb3",
   "metadata": {},
   "source": [
    "### Box-plot\n",
    "***\n",
    "\n",
    "O box plot dá uma idéia da posição, dispersão, assimetria, caudas e dados discrepantes (outliers). A posição central é dada pela mediana e a dispersão por $IIQ$. As posições relativas de $Q1$, $Mediana$ e $Q3$ dão uma noção da simetria da distribuição. Os comprimentos das cauda são dados pelas linhas que vão do retângulo aos valores remotos e pelos valores atípicos."
   ]
  },
  {
   "cell_type": "markdown",
   "id": "3a77c244",
   "metadata": {},
   "source": [
    "<img src='https://caelum-online-public.s3.amazonaws.com/1177-estatistica-parte1/01/img005.png' width='50%'>"
   ]
  },
  {
   "cell_type": "code",
   "execution_count": null,
   "id": "05567942",
   "metadata": {},
   "outputs": [],
   "source": []
  },
  {
   "cell_type": "code",
   "execution_count": null,
   "id": "53b27aa4",
   "metadata": {},
   "outputs": [],
   "source": []
  }
 ],
 "metadata": {
  "kernelspec": {
   "display_name": "Python 3 (ipykernel)",
   "language": "python",
   "name": "python3"
  },
  "language_info": {
   "codemirror_mode": {
    "name": "ipython",
    "version": 3
   },
   "file_extension": ".py",
   "mimetype": "text/x-python",
   "name": "python",
   "nbconvert_exporter": "python",
   "pygments_lexer": "ipython3",
   "version": "3.11.4"
  }
 },
 "nbformat": 4,
 "nbformat_minor": 5
}
