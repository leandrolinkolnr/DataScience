{
 "cells": [
  {
   "cell_type": "markdown",
   "id": "2b980a57",
   "metadata": {},
   "source": [
    "# Medidas Separatrizes: Quartis, Decis e Percentis"
   ]
  },
  {
   "cell_type": "code",
   "execution_count": 1,
   "id": "9517f487",
   "metadata": {},
   "outputs": [],
   "source": [
    "import pandas as pd\n",
    "import numpy as np"
   ]
  },
  {
   "cell_type": "code",
   "execution_count": 4,
   "id": "47abd7da",
   "metadata": {},
   "outputs": [
    {
     "data": {
      "text/html": [
       "<div>\n",
       "<style scoped>\n",
       "    .dataframe tbody tr th:only-of-type {\n",
       "        vertical-align: middle;\n",
       "    }\n",
       "\n",
       "    .dataframe tbody tr th {\n",
       "        vertical-align: top;\n",
       "    }\n",
       "\n",
       "    .dataframe thead th {\n",
       "        text-align: right;\n",
       "    }\n",
       "</style>\n",
       "<table border=\"1\" class=\"dataframe\">\n",
       "  <thead>\n",
       "    <tr style=\"text-align: right;\">\n",
       "      <th></th>\n",
       "      <th>UF</th>\n",
       "      <th>Sexo</th>\n",
       "      <th>Idade</th>\n",
       "      <th>Cor</th>\n",
       "      <th>Anos de Estudo</th>\n",
       "      <th>Renda</th>\n",
       "      <th>Altura</th>\n",
       "    </tr>\n",
       "  </thead>\n",
       "  <tbody>\n",
       "    <tr>\n",
       "      <th>0</th>\n",
       "      <td>11</td>\n",
       "      <td>0</td>\n",
       "      <td>23</td>\n",
       "      <td>8</td>\n",
       "      <td>12</td>\n",
       "      <td>800</td>\n",
       "      <td>1603807616</td>\n",
       "    </tr>\n",
       "    <tr>\n",
       "      <th>1</th>\n",
       "      <td>11</td>\n",
       "      <td>1</td>\n",
       "      <td>23</td>\n",
       "      <td>2</td>\n",
       "      <td>12</td>\n",
       "      <td>1150</td>\n",
       "      <td>1739789827</td>\n",
       "    </tr>\n",
       "    <tr>\n",
       "      <th>2</th>\n",
       "      <td>11</td>\n",
       "      <td>1</td>\n",
       "      <td>35</td>\n",
       "      <td>8</td>\n",
       "      <td>15</td>\n",
       "      <td>880</td>\n",
       "      <td>1760443822</td>\n",
       "    </tr>\n",
       "  </tbody>\n",
       "</table>\n",
       "</div>"
      ],
      "text/plain": [
       "   UF  Sexo  Idade  Cor  Anos de Estudo  Renda      Altura\n",
       "0  11     0     23    8              12    800  1603807616\n",
       "1  11     1     23    2              12   1150  1739789827\n",
       "2  11     1     35    8              15    880  1760443822"
      ]
     },
     "execution_count": 4,
     "metadata": {},
     "output_type": "execute_result"
    }
   ],
   "source": [
    "dados = pd.read_excel(\"../Arquivos/dados.xlsx\")\n",
    "dados.head(3)"
   ]
  },
  {
   "cell_type": "markdown",
   "id": "da58fa95",
   "metadata": {},
   "source": [
    "### Quantile: Divida a variavel em x itens\n",
    "##### 0.5 é mesmo que dividir em 2, ou seja, MEDIANA"
   ]
  },
  {
   "cell_type": "code",
   "execution_count": 10,
   "id": "c28a5a0a",
   "metadata": {},
   "outputs": [
    {
     "data": {
      "text/plain": [
       "1200.0"
      ]
     },
     "execution_count": 10,
     "metadata": {},
     "output_type": "execute_result"
    }
   ],
   "source": [
    "dados.Renda.quantile(0.5)"
   ]
  },
  {
   "cell_type": "markdown",
   "id": "9caaa950",
   "metadata": {},
   "source": [
    "### Para dividir em quartis, são 3 divisoes, ou seja n - 1\n",
    "\n",
    "### Vamos dividir em quartis, informaremos as 3 medidias de separação\n",
    "\n",
    "##### Dessa forma, vai dividir em 0.25, 0.50 e 0.75, quatro medidas IGUAIS"
   ]
  },
  {
   "cell_type": "code",
   "execution_count": 11,
   "id": "d1f15fa8",
   "metadata": {},
   "outputs": [
    {
     "data": {
      "text/plain": [
       "0.25     788.0\n",
       "0.50    1200.0\n",
       "0.75    2000.0\n",
       "Name: Renda, dtype: float64"
      ]
     },
     "execution_count": 11,
     "metadata": {},
     "output_type": "execute_result"
    }
   ],
   "source": [
    "dados.Renda.quantile([0.25, 0.5, 0.75])"
   ]
  },
  {
   "cell_type": "markdown",
   "id": "340508ea",
   "metadata": {},
   "source": [
    "### Para dividir em 10 e em 100, fazer do mesmo modo\n",
    "\n",
    "##### Faremos um for para gerar os 10 numeros pretendidos:"
   ]
  },
  {
   "cell_type": "code",
   "execution_count": 15,
   "id": "9daf1b2e",
   "metadata": {},
   "outputs": [
    {
     "data": {
      "text/plain": [
       "[0.1, 0.2, 0.3, 0.4, 0.5, 0.6, 0.7, 0.8, 0.9]"
      ]
     },
     "execution_count": 15,
     "metadata": {},
     "output_type": "execute_result"
    }
   ],
   "source": [
    "# Para gerar uma lista de de 0.1 a 0.9, faremos:\n",
    "\n",
    "[i/10 for i in range(1,10)]"
   ]
  },
  {
   "cell_type": "code",
   "execution_count": 21,
   "id": "75f068cf",
   "metadata": {},
   "outputs": [
    {
     "data": {
      "text/plain": [
       "0.1     350.0\n",
       "0.2     788.0\n",
       "0.3     800.0\n",
       "0.4    1000.0\n",
       "0.5    1200.0\n",
       "0.6    1500.0\n",
       "0.7    1900.0\n",
       "0.8    2500.0\n",
       "0.9    4000.0\n",
       "Name: Renda, dtype: float64"
      ]
     },
     "execution_count": 21,
     "metadata": {},
     "output_type": "execute_result"
    }
   ],
   "source": [
    "# Para gerar o numero que queremos, podemos gerar ja tudo junto:\n",
    "\n",
    "dados.Renda.quantile([i/10 for i in range(1,10)])"
   ]
  },
  {
   "cell_type": "markdown",
   "id": "1cec9829",
   "metadata": {},
   "source": [
    "###  Significa, que 10% dos valores estao abaixo de 350 e 10% dos valores estao acima de 4000, por exemplo"
   ]
  },
  {
   "cell_type": "markdown",
   "id": "b0af75f1",
   "metadata": {},
   "source": [
    "##### Para gerar percentis, faremos de forma analoga:\n"
   ]
  },
  {
   "cell_type": "code",
   "execution_count": 26,
   "id": "d6fd76f3",
   "metadata": {},
   "outputs": [
    {
     "data": {
      "text/plain": [
       "0.01        0.0\n",
       "0.02        0.0\n",
       "0.03        0.0\n",
       "0.04       50.0\n",
       "0.05      100.0\n",
       "         ...   \n",
       "0.95     6000.0\n",
       "0.96     7000.0\n",
       "0.97     8000.0\n",
       "0.98    10000.0\n",
       "0.99    15000.0\n",
       "Name: Renda, Length: 99, dtype: float64"
      ]
     },
     "execution_count": 26,
     "metadata": {},
     "output_type": "execute_result"
    }
   ],
   "source": [
    "dados.Renda.quantile([x/100 for x in range(1,100)])"
   ]
  }
 ],
 "metadata": {
  "kernelspec": {
   "display_name": "Python 3 (ipykernel)",
   "language": "python",
   "name": "python3"
  },
  "language_info": {
   "codemirror_mode": {
    "name": "ipython",
    "version": 3
   },
   "file_extension": ".py",
   "mimetype": "text/x-python",
   "name": "python",
   "nbconvert_exporter": "python",
   "pygments_lexer": "ipython3",
   "version": "3.11.4"
  }
 },
 "nbformat": 4,
 "nbformat_minor": 5
}
