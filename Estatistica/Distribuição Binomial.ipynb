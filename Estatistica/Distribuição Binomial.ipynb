{
 "cells": [
  {
   "cell_type": "markdown",
   "id": "f3ba1a46",
   "metadata": {},
   "source": [
    "# Distribuição Binomial"
   ]
  },
  {
   "cell_type": "code",
   "execution_count": 2,
   "id": "37292267",
   "metadata": {},
   "outputs": [],
   "source": [
    "import pandas as pd\n",
    "import numpy as np"
   ]
  },
  {
   "cell_type": "code",
   "execution_count": 3,
   "id": "a342b1f0",
   "metadata": {},
   "outputs": [
    {
     "data": {
      "text/html": [
       "<div>\n",
       "<style scoped>\n",
       "    .dataframe tbody tr th:only-of-type {\n",
       "        vertical-align: middle;\n",
       "    }\n",
       "\n",
       "    .dataframe tbody tr th {\n",
       "        vertical-align: top;\n",
       "    }\n",
       "\n",
       "    .dataframe thead th {\n",
       "        text-align: right;\n",
       "    }\n",
       "</style>\n",
       "<table border=\"1\" class=\"dataframe\">\n",
       "  <thead>\n",
       "    <tr style=\"text-align: right;\">\n",
       "      <th></th>\n",
       "      <th>UF</th>\n",
       "      <th>Sexo</th>\n",
       "      <th>Idade</th>\n",
       "      <th>Cor</th>\n",
       "      <th>Anos de Estudo</th>\n",
       "      <th>Renda</th>\n",
       "      <th>Altura</th>\n",
       "    </tr>\n",
       "  </thead>\n",
       "  <tbody>\n",
       "    <tr>\n",
       "      <th>0</th>\n",
       "      <td>11</td>\n",
       "      <td>0</td>\n",
       "      <td>23</td>\n",
       "      <td>8</td>\n",
       "      <td>12</td>\n",
       "      <td>800</td>\n",
       "      <td>1603807616</td>\n",
       "    </tr>\n",
       "    <tr>\n",
       "      <th>1</th>\n",
       "      <td>11</td>\n",
       "      <td>1</td>\n",
       "      <td>23</td>\n",
       "      <td>2</td>\n",
       "      <td>12</td>\n",
       "      <td>1150</td>\n",
       "      <td>1739789827</td>\n",
       "    </tr>\n",
       "    <tr>\n",
       "      <th>2</th>\n",
       "      <td>11</td>\n",
       "      <td>1</td>\n",
       "      <td>35</td>\n",
       "      <td>8</td>\n",
       "      <td>15</td>\n",
       "      <td>880</td>\n",
       "      <td>1760443822</td>\n",
       "    </tr>\n",
       "  </tbody>\n",
       "</table>\n",
       "</div>"
      ],
      "text/plain": [
       "   UF  Sexo  Idade  Cor  Anos de Estudo  Renda      Altura\n",
       "0  11     0     23    8              12    800  1603807616\n",
       "1  11     1     23    2              12   1150  1739789827\n",
       "2  11     1     35    8              15    880  1760443822"
      ]
     },
     "execution_count": 3,
     "metadata": {},
     "output_type": "execute_result"
    }
   ],
   "source": [
    "dados = pd.read_excel(\"../Arquivos/dados.xlsx\")\n",
    "dados.head(3)"
   ]
  },
  {
   "cell_type": "markdown",
   "id": "ce47421b",
   "metadata": {},
   "source": [
    "## <font color=red>Problema</font>\n",
    "***"
   ]
  },
  {
   "cell_type": "markdown",
   "id": "bd769241",
   "metadata": {},
   "source": [
    "Em um concurso temos um total de **10 questões** com **3 alternativas possíveis**. **Cada questão tem o mesmo valor.** Suponha que um candidato resolva chutar todas as resposta. Assumindo que a prova **vale 10 pontos e a nota de corte seja 5**, obtenha a probabilidade dele **acertar 5 questões** e também a probabilidade dele **passar para a próxima etapa do processo seletivo**."
   ]
  },
  {
   "cell_type": "markdown",
   "id": "9ce2a440",
   "metadata": {},
   "source": [
    "### Distribuição Binomial\n",
    "\n",
    "A distribuição binomial é usada para calcular a probabilidade de um número específico de sucessos em um certo número de tentativas, quando cada tentativa tem apenas dois resultados possíveis: sucesso ou fracasso.\n",
    "***"
   ]
  },
  {
   "cell_type": "markdown",
   "id": "640b21fe",
   "metadata": {},
   "source": [
    "### $$P(k)=\\binom{n}{k} p^k q^{n-k}$$\n",
    "\n",
    "Onde:\n",
    "\n",
    "$p$ = probabilidade de sucesso\n",
    "\n",
    "$q = (1 - p)$ = probabilidade de fracasso\n",
    "\n",
    "$n$ = número de eventos estudados\n",
    "\n",
    "$k$ = número de eventos desejados que tenham sucesso"
   ]
  },
  {
   "cell_type": "markdown",
   "id": "431f3b2a",
   "metadata": {},
   "source": [
    "### Experimento Binomial"
   ]
  },
  {
   "cell_type": "markdown",
   "id": "166a412f",
   "metadata": {},
   "source": [
    "1. Realização de $n$ ensaios idênticos.\n",
    "\n",
    "2. Os ensaios são independentes.\n",
    "\n",
    "3. Somente dois resultados são possíveis, exemplo: Verdadeiro ou falso; Cara ou coroa; Sucesso ou fracasso.\n",
    "\n",
    "4. A probabilidade de sucesso é representada por $p$ e a de fracasso por $1-p=q$. Estas probabilidades não se modificam de ensaio para ensaio."
   ]
  },
  {
   "cell_type": "markdown",
   "id": "99dc1111",
   "metadata": {},
   "source": [
    "### Média da distribuição binomial"
   ]
  },
  {
   "cell_type": "markdown",
   "id": "15358db0",
   "metadata": {},
   "source": [
    "O valor esperado ou a média da distribuição binomial é igual ao número de experimentos realizados multiplicado pela chance de ocorrência do evento.\n",
    "\n",
    "# $$\\mu = n \\times p$$"
   ]
  },
  {
   "cell_type": "markdown",
   "id": "71ed051e",
   "metadata": {},
   "source": [
    "### Desvio padrão da distribuição binomial"
   ]
  },
  {
   "cell_type": "markdown",
   "id": "158a13f9",
   "metadata": {},
   "source": [
    "O desvio padrão é o produto entre o número de experimentos, a probabilidade de sucesso e a probabilidade de fracasso.\n",
    "\n",
    "# $$\\sigma = \\sqrt{n \\times p \\times q}$$"
   ]
  },
  {
   "cell_type": "code",
   "execution_count": 4,
   "id": "27cb3b02",
   "metadata": {},
   "outputs": [],
   "source": [
    "# Importando combinações\n",
    "from scipy.special import comb"
   ]
  },
  {
   "cell_type": "markdown",
   "id": "f524f598",
   "metadata": {},
   "source": [
    "### Combinações\n",
    "\n",
    "Número de combinações de $n$ objetos, tomados $k$ a cada vez, é:\n",
    "\n",
    "## $$C_{k}^{n} = \\binom{n}{k} = \\frac{n!}{k!(n - k)!}$$\n",
    "\n",
    "Por definição\n",
    "\n",
    "## $$0! = 1$$"
   ]
  },
  {
   "cell_type": "markdown",
   "id": "0a67ed0c",
   "metadata": {},
   "source": [
    "## <font color='blue'>Exemplo: Mega Sena</font>"
   ]
  },
  {
   "cell_type": "markdown",
   "id": "9d85c3ef",
   "metadata": {},
   "source": [
    "Em uma Mega Sena temos um total de **60 números** para escolher onde a aposta mínima é de **seis números**. Você resolve calcular a probabilidade de acertar com apenas **um jogo**. Para isso precisamos saber quantas **combinações de seis números podem ser formadas com os 60 números disponíveis**.\n",
    "\n",
    "### $$C_{6}^{60} = \\binom{60}{6} = \\frac{60!}{6!(60 - 6)!}$$"
   ]
  },
  {
   "cell_type": "markdown",
   "id": "771698a5",
   "metadata": {},
   "source": [
    "#### Resolvendo com o metodo comb"
   ]
  },
  {
   "cell_type": "code",
   "execution_count": 5,
   "id": "9615427c",
   "metadata": {},
   "outputs": [
    {
     "data": {
      "text/plain": [
       "50063860.0"
      ]
     },
     "execution_count": 5,
     "metadata": {},
     "output_type": "execute_result"
    }
   ],
   "source": [
    "combinacoes = comb(60, 6)\n",
    "combinacoes"
   ]
  },
  {
   "cell_type": "markdown",
   "id": "a8f7c96d",
   "metadata": {},
   "source": [
    "#### Qual a probabilidade de acertar na mega sena??"
   ]
  },
  {
   "cell_type": "code",
   "execution_count": 6,
   "id": "9a721bd0",
   "metadata": {},
   "outputs": [
    {
     "name": "stdout",
     "output_type": "stream",
     "text": [
      "0.000000019974489\n"
     ]
    }
   ],
   "source": [
    "probabilidade = (1 / combinacoes)\n",
    "print('%0.15f' % probabilidade)"
   ]
  },
  {
   "cell_type": "markdown",
   "id": "fee52fbd",
   "metadata": {},
   "source": [
    "## <font color='blue'>Exemplo: Concurso para cientista de dados</font>"
   ]
  },
  {
   "cell_type": "markdown",
   "id": "52137fff",
   "metadata": {},
   "source": [
    "Em um concurso temos um total de **10 questões** com **3 alternativas possíveis**. **Cada questão tem o mesmo valor.** Suponha que um candidato resolva chutar todas as resposta. Assumindo que a prova **vale 10 pontos e a nota de corte seja 5**, obtenha a probabilidade dele **acertar 5 questões** e também a probabilidade dele **passar para a próxima etapa do processo seletivo**."
   ]
  },
  {
   "cell_type": "markdown",
   "id": "c969a0e6",
   "metadata": {},
   "source": [
    "### Qual o número de ensaios ($n$)?"
   ]
  },
  {
   "cell_type": "code",
   "execution_count": 7,
   "id": "94326e31",
   "metadata": {},
   "outputs": [],
   "source": [
    "n = 10"
   ]
  },
  {
   "cell_type": "markdown",
   "id": "1bc19cde",
   "metadata": {},
   "source": [
    "### Os ensaios são independentes?\n",
    "\n",
    "Sim. A opção escolhida em uma questão não influencia em nada a opção escolhida em outra questão."
   ]
  },
  {
   "cell_type": "markdown",
   "id": "63efe704",
   "metadata": {},
   "source": [
    "### Somente dois resultados são possíveis em cada ensaio?\n",
    "\n",
    "Sim. O candidato tem duas possibilidades, ACERTA ou ERRAR uma questão. "
   ]
  },
  {
   "cell_type": "markdown",
   "id": "69805086",
   "metadata": {},
   "source": [
    "#### Qual a probabilidade de sucesso ($p$)?"
   ]
  },
  {
   "cell_type": "code",
   "execution_count": 8,
   "id": "f735c185",
   "metadata": {},
   "outputs": [
    {
     "data": {
      "text/plain": [
       "0.3333333333333333"
      ]
     },
     "execution_count": 8,
     "metadata": {},
     "output_type": "execute_result"
    }
   ],
   "source": [
    "numero_de_alternativas_por_questao = 3\n",
    "p = 1 / numero_de_alternativas_por_questao\n",
    "p"
   ]
  },
  {
   "cell_type": "markdown",
   "id": "ac6dd48f",
   "metadata": {},
   "source": [
    "#### Qual a probabilidade de fracasso ($q$)?"
   ]
  },
  {
   "cell_type": "code",
   "execution_count": 9,
   "id": "6cff55ed",
   "metadata": {},
   "outputs": [
    {
     "data": {
      "text/plain": [
       "0.6666666666666667"
      ]
     },
     "execution_count": 9,
     "metadata": {},
     "output_type": "execute_result"
    }
   ],
   "source": [
    "q = 1 - p\n",
    "q"
   ]
  },
  {
   "cell_type": "markdown",
   "id": "2ea15e98",
   "metadata": {},
   "source": [
    "#### Qual o total de eventos que se deseja obter sucesso ($k$)?"
   ]
  },
  {
   "cell_type": "code",
   "execution_count": 10,
   "id": "556e16da",
   "metadata": {},
   "outputs": [],
   "source": [
    "k = 5"
   ]
  },
  {
   "cell_type": "markdown",
   "id": "4e641252",
   "metadata": {},
   "source": [
    "### Solução 1 - Aplicando a formula"
   ]
  },
  {
   "cell_type": "code",
   "execution_count": 17,
   "id": "95a39a59",
   "metadata": {},
   "outputs": [
    {
     "data": {
      "text/plain": [
       "0.13656454808718185"
      ]
     },
     "execution_count": 17,
     "metadata": {},
     "output_type": "execute_result"
    }
   ],
   "source": [
    "probabilidade = (comb(n, k)) * (p ** k) * (q ** (n - k))\n",
    "probabilidade"
   ]
  },
  {
   "cell_type": "markdown",
   "id": "8dc20ecb",
   "metadata": {},
   "source": [
    "### Solução 2 - Utilizando função ja pronta"
   ]
  },
  {
   "cell_type": "code",
   "execution_count": 19,
   "id": "1f3119a0",
   "metadata": {},
   "outputs": [],
   "source": [
    "from scipy.stats import binom"
   ]
  },
  {
   "cell_type": "code",
   "execution_count": 20,
   "id": "3344d850",
   "metadata": {},
   "outputs": [
    {
     "name": "stdout",
     "output_type": "stream",
     "text": [
      "0.13656455\n"
     ]
    }
   ],
   "source": [
    "probabilidade = binom.pmf(k, n, p)\n",
    "print('%0.8f' % probabilidade)"
   ]
  },
  {
   "cell_type": "markdown",
   "id": "9652a06d",
   "metadata": {},
   "source": [
    "### Obter a probabilidade do candidato passar \n",
    "##### Acertando, 5 ou mais questoes"
   ]
  },
  {
   "cell_type": "markdown",
   "id": "e90bc4df",
   "metadata": {},
   "source": [
    "#### $$P(acertar \\geq 5) = P(5) + P(6) + P(7) + P(8) + P(9) + P10)$$"
   ]
  },
  {
   "cell_type": "code",
   "execution_count": 22,
   "id": "4c57e6ab",
   "metadata": {},
   "outputs": [
    {
     "data": {
      "text/plain": [
       "0.21312808006909492"
      ]
     },
     "execution_count": 22,
     "metadata": {},
     "output_type": "execute_result"
    }
   ],
   "source": [
    "binom.pmf(5, n, p) + binom.pmf(6, n, p) + binom.pmf(7, n, p) + binom.pmf(8, n, p) + binom.pmf(9, n, p) + binom.pmf(10, n, p)"
   ]
  },
  {
   "cell_type": "markdown",
   "id": "6004d30f",
   "metadata": {},
   "source": [
    "### Posso resolver de modo mais facil"
   ]
  },
  {
   "cell_type": "code",
   "execution_count": 26,
   "id": "780ca764",
   "metadata": {},
   "outputs": [
    {
     "data": {
      "text/plain": [
       "0.21312808006909492"
      ]
     },
     "execution_count": 26,
     "metadata": {},
     "output_type": "execute_result"
    }
   ],
   "source": [
    "# Dessa forma, passei uma lista dele acertar cada numero de questoes e depois somar tudo\n",
    "# ASSim temos a probabilidade dele chutar tudo e passar\n",
    "binom.pmf([5, 6, 7, 8, 9, 10], n, p).sum()"
   ]
  },
  {
   "cell_type": "markdown",
   "id": "1cc11f5b",
   "metadata": {},
   "source": [
    "### Resolvendo ainda de dois outros modos"
   ]
  },
  {
   "cell_type": "code",
   "execution_count": 29,
   "id": "a04dcd63",
   "metadata": {},
   "outputs": [
    {
     "data": {
      "text/plain": [
       "0.21312808006909523"
      ]
     },
     "execution_count": 29,
     "metadata": {},
     "output_type": "execute_result"
    }
   ],
   "source": [
    "1 - binom.cdf(4, n, p)"
   ]
  },
  {
   "cell_type": "code",
   "execution_count": 31,
   "id": "2a76fc3d",
   "metadata": {},
   "outputs": [
    {
     "data": {
      "text/plain": [
       "0.21312808006909525"
      ]
     },
     "execution_count": 31,
     "metadata": {},
     "output_type": "execute_result"
    }
   ],
   "source": [
    "binom.sf(4, n, p)"
   ]
  },
  {
   "cell_type": "markdown",
   "id": "db1b106e",
   "metadata": {},
   "source": [
    "#### Isso seria uma questao como \"Calcule a probabilidade de acertar PELO MENOS 5 QUESTOES\""
   ]
  },
  {
   "cell_type": "code",
   "execution_count": null,
   "id": "3ae1ed5f",
   "metadata": {},
   "outputs": [],
   "source": []
  },
  {
   "cell_type": "markdown",
   "id": "c76b2f27",
   "metadata": {},
   "source": [
    "## <font color='RED'>Exemplo: Gincana</font>\n",
    "\n",
    "Uma cidade do interior realiza todos os anos uma gincana para arrecadar fundos para o hospital da cidade. Na última gincana se sabe que a **proporção de participantes do sexo feminino foi de 60%**. **O total de equipes, com 12 integrantes, inscritas na gincana deste ano é de 30**. Com as informações acima responda: Quantas equipes deverão ser formadas por **8 mulheres**?"
   ]
  },
  {
   "cell_type": "code",
   "execution_count": 47,
   "id": "b201b649",
   "metadata": {},
   "outputs": [],
   "source": [
    "p = 0.6\n",
    "n = 12\n",
    "k = 8"
   ]
  },
  {
   "cell_type": "code",
   "execution_count": 49,
   "id": "fcb5ef91",
   "metadata": {},
   "outputs": [
    {
     "name": "stdout",
     "output_type": "stream",
     "text": [
      "0.21284094\n"
     ]
    }
   ],
   "source": [
    "probabilidade = binom.pmf(k, n, p)\n",
    "print('%0.8f' % probabilidade)"
   ]
  },
  {
   "cell_type": "code",
   "execution_count": 50,
   "id": "40b8c8e3",
   "metadata": {},
   "outputs": [
    {
     "data": {
      "text/plain": [
       "6.3852281856"
      ]
     },
     "execution_count": 50,
     "metadata": {},
     "output_type": "execute_result"
    }
   ],
   "source": [
    "equipes = 30 * probabilidade\n",
    "equipes"
   ]
  },
  {
   "cell_type": "code",
   "execution_count": null,
   "id": "c2410282",
   "metadata": {},
   "outputs": [],
   "source": []
  }
 ],
 "metadata": {
  "kernelspec": {
   "display_name": "Python 3 (ipykernel)",
   "language": "python",
   "name": "python3"
  },
  "language_info": {
   "codemirror_mode": {
    "name": "ipython",
    "version": 3
   },
   "file_extension": ".py",
   "mimetype": "text/x-python",
   "name": "python",
   "nbconvert_exporter": "python",
   "pygments_lexer": "ipython3",
   "version": "3.11.4"
  }
 },
 "nbformat": 4,
 "nbformat_minor": 5
}
