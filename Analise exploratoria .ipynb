{
 "cells": [
  {
   "cell_type": "markdown",
   "id": "5cf092ff",
   "metadata": {},
   "source": [
    "# Analise exploratoria "
   ]
  },
  {
   "cell_type": "code",
   "execution_count": 1,
   "id": "5543e465",
   "metadata": {},
   "outputs": [],
   "source": [
    "import pandas as pd\n",
    "\n",
    "notas = pd.read_csv(\"./Arquivos/ratings.csv\")\n",
    "filmes = pd.read_csv(\"./Arquivos/movies.csv\")"
   ]
  },
  {
   "cell_type": "code",
   "execution_count": 2,
   "id": "5075a9ba",
   "metadata": {},
   "outputs": [],
   "source": [
    "filmes.columns = [\"FilmeId\", \"Nome\", \"Genero\"]\n",
    "notas.columns = [\"UsuarioId\" , \"FilmeId\", \"Nota\", \"Momento\"]"
   ]
  },
  {
   "cell_type": "markdown",
   "id": "edb760d8",
   "metadata": {},
   "source": [
    "# Dataset Notas"
   ]
  },
  {
   "cell_type": "markdown",
   "id": "be35bca4",
   "metadata": {},
   "source": [
    "## Filtrando pelo id e genero"
   ]
  },
  {
   "cell_type": "code",
   "execution_count": 10,
   "id": "fcd3fbdf",
   "metadata": {},
   "outputs": [],
   "source": [
    "#notas.query(\"UsuarioId==45\")               # Buscar notas do usuario id 45\n",
    "#notas.query(\"UsuarioId==45\").FilmeId        # Buscar so a coluna filmeID do usuario de id 45\n",
    "#notas.query(\"Nota>4.5\")                      # Listar apenas as notas acima de 4.5"
   ]
  },
  {
   "cell_type": "markdown",
   "id": "77eb6971",
   "metadata": {},
   "source": [
    "## Agrupar pela coluna FilmeID"
   ]
  },
  {
   "cell_type": "markdown",
   "id": "3dfd95bc",
   "metadata": {},
   "source": [
    "##### Assim podemos agrupar o dataset por filme e depois tirar a sua nota media\n",
    "#### Eu agrupando por FilmeID, ele passa a ser o indice do dataset"
   ]
  },
  {
   "cell_type": "code",
   "execution_count": 4,
   "id": "3880f0aa",
   "metadata": {},
   "outputs": [],
   "source": [
    "notas.groupby(\"FilmeId\").mean()                            # Pegar a media de tudo\n",
    "media_por_filme = notas.groupby(\"FilmeId\").mean().Nota     # Pegar so a coluna nota"
   ]
  },
  {
   "cell_type": "markdown",
   "id": "37d93b31",
   "metadata": {},
   "source": [
    "#### Se quisermos resetar o indice para numeros"
   ]
  },
  {
   "cell_type": "code",
   "execution_count": 9,
   "id": "c38db1cb",
   "metadata": {},
   "outputs": [
    {
     "data": {
      "text/html": [
       "<div>\n",
       "<style scoped>\n",
       "    .dataframe tbody tr th:only-of-type {\n",
       "        vertical-align: middle;\n",
       "    }\n",
       "\n",
       "    .dataframe tbody tr th {\n",
       "        vertical-align: top;\n",
       "    }\n",
       "\n",
       "    .dataframe thead th {\n",
       "        text-align: right;\n",
       "    }\n",
       "</style>\n",
       "<table border=\"1\" class=\"dataframe\">\n",
       "  <thead>\n",
       "    <tr style=\"text-align: right;\">\n",
       "      <th></th>\n",
       "      <th>FilmeId</th>\n",
       "      <th>Nota</th>\n",
       "    </tr>\n",
       "  </thead>\n",
       "  <tbody>\n",
       "    <tr>\n",
       "      <th>0</th>\n",
       "      <td>1</td>\n",
       "      <td>3.920930</td>\n",
       "    </tr>\n",
       "    <tr>\n",
       "      <th>1</th>\n",
       "      <td>2</td>\n",
       "      <td>3.431818</td>\n",
       "    </tr>\n",
       "    <tr>\n",
       "      <th>2</th>\n",
       "      <td>3</td>\n",
       "      <td>3.259615</td>\n",
       "    </tr>\n",
       "    <tr>\n",
       "      <th>3</th>\n",
       "      <td>4</td>\n",
       "      <td>2.357143</td>\n",
       "    </tr>\n",
       "    <tr>\n",
       "      <th>4</th>\n",
       "      <td>5</td>\n",
       "      <td>3.071429</td>\n",
       "    </tr>\n",
       "    <tr>\n",
       "      <th>...</th>\n",
       "      <td>...</td>\n",
       "      <td>...</td>\n",
       "    </tr>\n",
       "    <tr>\n",
       "      <th>9719</th>\n",
       "      <td>193581</td>\n",
       "      <td>4.000000</td>\n",
       "    </tr>\n",
       "    <tr>\n",
       "      <th>9720</th>\n",
       "      <td>193583</td>\n",
       "      <td>3.500000</td>\n",
       "    </tr>\n",
       "    <tr>\n",
       "      <th>9721</th>\n",
       "      <td>193585</td>\n",
       "      <td>3.500000</td>\n",
       "    </tr>\n",
       "    <tr>\n",
       "      <th>9722</th>\n",
       "      <td>193587</td>\n",
       "      <td>3.500000</td>\n",
       "    </tr>\n",
       "    <tr>\n",
       "      <th>9723</th>\n",
       "      <td>193609</td>\n",
       "      <td>4.000000</td>\n",
       "    </tr>\n",
       "  </tbody>\n",
       "</table>\n",
       "<p>9724 rows × 2 columns</p>\n",
       "</div>"
      ],
      "text/plain": [
       "      FilmeId      Nota\n",
       "0           1  3.920930\n",
       "1           2  3.431818\n",
       "2           3  3.259615\n",
       "3           4  2.357143\n",
       "4           5  3.071429\n",
       "...       ...       ...\n",
       "9719   193581  4.000000\n",
       "9720   193583  3.500000\n",
       "9721   193585  3.500000\n",
       "9722   193587  3.500000\n",
       "9723   193609  4.000000\n",
       "\n",
       "[9724 rows x 2 columns]"
      ]
     },
     "execution_count": 9,
     "metadata": {},
     "output_type": "execute_result"
    }
   ],
   "source": [
    "media_por_filme.reset_index()"
   ]
  }
 ],
 "metadata": {
  "kernelspec": {
   "display_name": "Python 3 (ipykernel)",
   "language": "python",
   "name": "python3"
  },
  "language_info": {
   "codemirror_mode": {
    "name": "ipython",
    "version": 3
   },
   "file_extension": ".py",
   "mimetype": "text/x-python",
   "name": "python",
   "nbconvert_exporter": "python",
   "pygments_lexer": "ipython3",
   "version": "3.9.13"
  }
 },
 "nbformat": 4,
 "nbformat_minor": 5
}
