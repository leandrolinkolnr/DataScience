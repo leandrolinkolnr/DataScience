{
 "cells": [
  {
   "cell_type": "markdown",
   "id": "20bc34c6",
   "metadata": {},
   "source": [
    "# Leitura e visualização de dados"
   ]
  },
  {
   "cell_type": "code",
   "execution_count": 8,
   "id": "ac8ee4d6",
   "metadata": {},
   "outputs": [
    {
     "data": {
      "text/html": [
       "<div>\n",
       "<style scoped>\n",
       "    .dataframe tbody tr th:only-of-type {\n",
       "        vertical-align: middle;\n",
       "    }\n",
       "\n",
       "    .dataframe tbody tr th {\n",
       "        vertical-align: top;\n",
       "    }\n",
       "\n",
       "    .dataframe thead th {\n",
       "        text-align: right;\n",
       "    }\n",
       "</style>\n",
       "<table border=\"1\" class=\"dataframe\">\n",
       "  <thead>\n",
       "    <tr style=\"text-align: right;\">\n",
       "      <th></th>\n",
       "      <th>userId</th>\n",
       "      <th>movieId</th>\n",
       "      <th>rating</th>\n",
       "      <th>timestamp</th>\n",
       "    </tr>\n",
       "  </thead>\n",
       "  <tbody>\n",
       "    <tr>\n",
       "      <th>0</th>\n",
       "      <td>1</td>\n",
       "      <td>1</td>\n",
       "      <td>4.0</td>\n",
       "      <td>964982703</td>\n",
       "    </tr>\n",
       "    <tr>\n",
       "      <th>1</th>\n",
       "      <td>1</td>\n",
       "      <td>3</td>\n",
       "      <td>4.0</td>\n",
       "      <td>964981247</td>\n",
       "    </tr>\n",
       "    <tr>\n",
       "      <th>2</th>\n",
       "      <td>1</td>\n",
       "      <td>6</td>\n",
       "      <td>4.0</td>\n",
       "      <td>964982224</td>\n",
       "    </tr>\n",
       "  </tbody>\n",
       "</table>\n",
       "</div>"
      ],
      "text/plain": [
       "   userId  movieId  rating  timestamp\n",
       "0       1        1     4.0  964982703\n",
       "1       1        3     4.0  964981247\n",
       "2       1        6     4.0  964982224"
      ]
     },
     "execution_count": 8,
     "metadata": {},
     "output_type": "execute_result"
    }
   ],
   "source": [
    "import pandas as pd\n",
    "\n",
    "notas = pd.read_csv(\"./Arquivos/ratings.csv\")\n",
    "\n",
    "notas.head(3)        # Imprimir 3 primeiras linhas"
   ]
  },
  {
   "cell_type": "markdown",
   "id": "f6d31ffd",
   "metadata": {},
   "source": [
    "### Formato do dataset   (AxB)"
   ]
  },
  {
   "cell_type": "code",
   "execution_count": 2,
   "id": "18def01e",
   "metadata": {},
   "outputs": [
    {
     "data": {
      "text/plain": [
       "(100836, 4)"
      ]
     },
     "execution_count": 2,
     "metadata": {},
     "output_type": "execute_result"
    }
   ],
   "source": [
    "notas.shape          "
   ]
  },
  {
   "cell_type": "markdown",
   "id": "939f219c",
   "metadata": {},
   "source": [
    "### Media, mediana e resumo matematico da coluna"
   ]
  },
  {
   "cell_type": "code",
   "execution_count": 3,
   "id": "012e853a",
   "metadata": {},
   "outputs": [
    {
     "name": "stdout",
     "output_type": "stream",
     "text": [
      "Media 3.501556983616962\n",
      "Mediana 3.5\n"
     ]
    },
    {
     "data": {
      "text/plain": [
       "count    100836.000000\n",
       "mean          3.501557\n",
       "std           1.042529\n",
       "min           0.500000\n",
       "25%           3.000000\n",
       "50%           3.500000\n",
       "75%           4.000000\n",
       "max           5.000000\n",
       "Name: rating, dtype: float64"
      ]
     },
     "execution_count": 3,
     "metadata": {},
     "output_type": "execute_result"
    }
   ],
   "source": [
    "print(\"Media\",notas.rating.mean())\n",
    "print(\"Mediana\",notas.rating.median())\n",
    "\n",
    "notas[\"rating\"].describe()"
   ]
  },
  {
   "cell_type": "markdown",
   "id": "dde2c2de",
   "metadata": {},
   "source": [
    "### Renomeando colunas"
   ]
  },
  {
   "cell_type": "code",
   "execution_count": 4,
   "id": "b09c0aed",
   "metadata": {},
   "outputs": [],
   "source": [
    "notas.columns = [\"UsuarioId\" , \"FilmeId\", \"Nota\", \"Momento\" ]"
   ]
  },
  {
   "cell_type": "markdown",
   "id": "e3e016eb",
   "metadata": {},
   "source": [
    "### Explorando Colunas"
   ]
  },
  {
   "cell_type": "code",
   "execution_count": 39,
   "id": "b9141779",
   "metadata": {},
   "outputs": [],
   "source": [
    "notas[\"Nota\"]                    # Ver apenas aquela coluna\n",
    "notas['Nota'].unique()           # Quais as notas existem (sem repetição)\n",
    "notas['Nota'].value_counts()     # Quantas vezes cada valor aparece\n",
    "notas['Nota'].mean()             # Media das notas ( da coluna)"
   ]
  },
  {
   "cell_type": "code",
   "execution_count": 40,
   "id": "f22b4804",
   "metadata": {},
   "outputs": [],
   "source": []
  }
 ],
 "metadata": {
  "kernelspec": {
   "display_name": "Python 3 (ipykernel)",
   "language": "python",
   "name": "python3"
  },
  "language_info": {
   "codemirror_mode": {
    "name": "ipython",
    "version": 3
   },
   "file_extension": ".py",
   "mimetype": "text/x-python",
   "name": "python",
   "nbconvert_exporter": "python",
   "pygments_lexer": "ipython3",
   "version": "3.9.13"
  }
 },
 "nbformat": 4,
 "nbformat_minor": 5
}
