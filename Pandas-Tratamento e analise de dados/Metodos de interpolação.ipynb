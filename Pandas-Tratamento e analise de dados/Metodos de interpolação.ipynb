{
 "cells": [
  {
   "cell_type": "code",
   "execution_count": null,
   "id": "7e1d08d6",
   "metadata": {},
   "outputs": [],
   "source": []
  },
  {
   "cell_type": "code",
   "execution_count": 2,
   "id": "c29541ea",
   "metadata": {},
   "outputs": [],
   "source": [
    "import pandas as pd"
   ]
  },
  {
   "cell_type": "code",
   "execution_count": 10,
   "id": "9edd85c7",
   "metadata": {},
   "outputs": [
    {
     "data": {
      "text/plain": [
       "0    0.50\n",
       "1     NaN\n",
       "2     NaN\n",
       "3    0.52\n",
       "4    0.54\n",
       "dtype: float64"
      ]
     },
     "execution_count": 10,
     "metadata": {},
     "output_type": "execute_result"
    }
   ],
   "source": [
    "data = [0.5, None, None, 0.52, 0.54, None, None, 0.59, 0.6, None, 0.7]\n",
    "s = pd.Series(data)\n",
    "s.head()"
   ]
  },
  {
   "cell_type": "markdown",
   "id": "f981085b",
   "metadata": {},
   "source": [
    "### ffill: Quando o valor for NaN, ele substitui o NaN pelo valor anterior  "
   ]
  },
  {
   "cell_type": "code",
   "execution_count": 15,
   "id": "7c137d37",
   "metadata": {},
   "outputs": [
    {
     "data": {
      "text/plain": [
       "0     0.50\n",
       "1     0.50\n",
       "2     0.50\n",
       "3     0.52\n",
       "4     0.54\n",
       "5     0.54\n",
       "6     0.54\n",
       "7     0.59\n",
       "8     0.60\n",
       "9     0.60\n",
       "10    0.70\n",
       "dtype: float64"
      ]
     },
     "execution_count": 15,
     "metadata": {},
     "output_type": "execute_result"
    }
   ],
   "source": [
    "s.fillna(method = 'ffill', inplace = False)"
   ]
  },
  {
   "cell_type": "markdown",
   "id": "58511a47",
   "metadata": {},
   "source": [
    "### bfill: Quando o valor for NaN, ele substitui o NaN pelo proximo valor"
   ]
  },
  {
   "cell_type": "code",
   "execution_count": 19,
   "id": "d82e9760",
   "metadata": {},
   "outputs": [
    {
     "data": {
      "text/plain": [
       "0     0.50\n",
       "1     0.52\n",
       "2     0.52\n",
       "3     0.52\n",
       "4     0.54\n",
       "5     0.59\n",
       "6     0.59\n",
       "7     0.59\n",
       "8     0.60\n",
       "9     0.70\n",
       "10    0.70\n",
       "dtype: float64"
      ]
     },
     "execution_count": 19,
     "metadata": {},
     "output_type": "execute_result"
    }
   ],
   "source": [
    "s.fillna(method = 'bfill', inplace = False)"
   ]
  },
  {
   "cell_type": "markdown",
   "id": "ac521d8b",
   "metadata": {},
   "source": [
    "#### Limitando para não alterar 2 valores NaN consecultivo"
   ]
  },
  {
   "cell_type": "code",
   "execution_count": 21,
   "id": "b28569b8",
   "metadata": {},
   "outputs": [
    {
     "data": {
      "text/plain": [
       "0     0.50\n",
       "1      NaN\n",
       "2     0.52\n",
       "3     0.52\n",
       "4     0.54\n",
       "5      NaN\n",
       "6     0.59\n",
       "7     0.59\n",
       "8     0.60\n",
       "9     0.70\n",
       "10    0.70\n",
       "dtype: float64"
      ]
     },
     "execution_count": 21,
     "metadata": {},
     "output_type": "execute_result"
    }
   ],
   "source": [
    "s.fillna(method = 'bfill', inplace = False, limit = 1)\n",
    "#s.fillna(method = 'bfill', inplace = False, limit = 3) ...."
   ]
  },
  {
   "cell_type": "markdown",
   "id": "38398783",
   "metadata": {},
   "source": [
    "### Quando o valor for NaN, ele substitui pela Media"
   ]
  },
  {
   "cell_type": "code",
   "execution_count": 22,
   "id": "19a427d4",
   "metadata": {},
   "outputs": [
    {
     "data": {
      "text/plain": [
       "0     0.500\n",
       "1     0.575\n",
       "2     0.575\n",
       "3     0.520\n",
       "4     0.540\n",
       "5     0.575\n",
       "6     0.575\n",
       "7     0.590\n",
       "8     0.600\n",
       "9     0.575\n",
       "10    0.700\n",
       "dtype: float64"
      ]
     },
     "execution_count": 22,
     "metadata": {},
     "output_type": "execute_result"
    }
   ],
   "source": [
    "s.fillna(s.mean(), inplace = False)"
   ]
  },
  {
   "cell_type": "code",
   "execution_count": null,
   "id": "b9364e1b",
   "metadata": {},
   "outputs": [],
   "source": []
  },
  {
   "cell_type": "code",
   "execution_count": null,
   "id": "71ca98da",
   "metadata": {},
   "outputs": [],
   "source": []
  }
 ],
 "metadata": {
  "kernelspec": {
   "display_name": "Python 3 (ipykernel)",
   "language": "python",
   "name": "python3"
  },
  "language_info": {
   "codemirror_mode": {
    "name": "ipython",
    "version": 3
   },
   "file_extension": ".py",
   "mimetype": "text/x-python",
   "name": "python",
   "nbconvert_exporter": "python",
   "pygments_lexer": "ipython3",
   "version": "3.9.13"
  }
 },
 "nbformat": 4,
 "nbformat_minor": 5
}
