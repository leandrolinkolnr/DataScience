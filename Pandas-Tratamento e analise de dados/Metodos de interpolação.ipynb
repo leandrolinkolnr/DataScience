{
 "cells": [
  {
   "cell_type": "code",
   "execution_count": null,
   "id": "26eaf8f5",
   "metadata": {},
   "outputs": [],
   "source": []
  },
  {
   "cell_type": "code",
   "execution_count": 2,
   "id": "fce8ed0f",
   "metadata": {},
   "outputs": [],
   "source": [
    "import pandas as pd"
   ]
  },
  {
   "cell_type": "code",
   "execution_count": 10,
   "id": "9f9910a1",
   "metadata": {},
   "outputs": [
    {
     "data": {
      "text/plain": [
       "0    0.50\n",
       "1     NaN\n",
       "2     NaN\n",
       "3    0.52\n",
       "4    0.54\n",
       "dtype: float64"
      ]
     },
     "execution_count": 10,
     "metadata": {},
     "output_type": "execute_result"
    }
   ],
   "source": [
    "data = [0.5, None, None, 0.52, 0.54, None, None, 0.59, 0.6, None, 0.7]\n",
    "s = pd.Series(data)\n",
    "s.head()"
   ]
  },
  {
   "cell_type": "markdown",
   "id": "25bcc377",
   "metadata": {},
   "source": [
    "### ffill: Quando o valor for NaN, ele substitui o NaN pelo valor anterior  "
   ]
  },
  {
   "cell_type": "code",
   "execution_count": 15,
   "id": "c94cf538",
   "metadata": {},
   "outputs": [
    {
     "data": {
      "text/plain": [
       "0     0.50\n",
       "1     0.50\n",
       "2     0.50\n",
       "3     0.52\n",
       "4     0.54\n",
       "5     0.54\n",
       "6     0.54\n",
       "7     0.59\n",
       "8     0.60\n",
       "9     0.60\n",
       "10    0.70\n",
       "dtype: float64"
      ]
     },
     "execution_count": 15,
     "metadata": {},
     "output_type": "execute_result"
    }
   ],
   "source": [
    "s.fillna(method = 'ffill', inplace = False)"
   ]
  },
  {
   "cell_type": "markdown",
   "id": "77657a1a",
   "metadata": {},
   "source": [
    "### bfill: Quando o valor for NaN, ele substitui o NaN pelo proximo valor"
   ]
  },
  {
   "cell_type": "code",
   "execution_count": 19,
   "id": "413e2f44",
   "metadata": {},
   "outputs": [
    {
     "data": {
      "text/plain": [
       "0     0.50\n",
       "1     0.52\n",
       "2     0.52\n",
       "3     0.52\n",
       "4     0.54\n",
       "5     0.59\n",
       "6     0.59\n",
       "7     0.59\n",
       "8     0.60\n",
       "9     0.70\n",
       "10    0.70\n",
       "dtype: float64"
      ]
     },
     "execution_count": 19,
     "metadata": {},
     "output_type": "execute_result"
    }
   ],
   "source": [
    "s.fillna(method = 'bfill', inplace = False)"
   ]
  },
  {
   "cell_type": "markdown",
   "id": "3f2133c1",
   "metadata": {},
   "source": [
    "#### Limitando para não alterar 2 valores NaN consecultivo"
   ]
  },
  {
   "cell_type": "code",
   "execution_count": 21,
   "id": "eb92b22b",
   "metadata": {},
   "outputs": [
    {
     "data": {
      "text/plain": [
       "0     0.50\n",
       "1      NaN\n",
       "2     0.52\n",
       "3     0.52\n",
       "4     0.54\n",
       "5      NaN\n",
       "6     0.59\n",
       "7     0.59\n",
       "8     0.60\n",
       "9     0.70\n",
       "10    0.70\n",
       "dtype: float64"
      ]
     },
     "execution_count": 21,
     "metadata": {},
     "output_type": "execute_result"
    }
   ],
   "source": [
    "s.fillna(method = 'bfill', inplace = False, limit = 1)\n",
    "#s.fillna(method = 'bfill', inplace = False, limit = 3) ...."
   ]
  },
  {
   "cell_type": "markdown",
   "id": "f9777f29",
   "metadata": {},
   "source": [
    "### Quando o valor for NaN, ele substitui pela Media"
   ]
  },
  {
   "cell_type": "code",
   "execution_count": 18,
   "id": "da950f05",
   "metadata": {},
   "outputs": [
    {
     "data": {
      "text/plain": [
       "0     0.500\n",
       "1     0.575\n",
       "2     0.575\n",
       "3     0.520\n",
       "4     0.540\n",
       "5     0.575\n",
       "6     0.575\n",
       "7     0.590\n",
       "8     0.600\n",
       "9     0.575\n",
       "10    0.700\n",
       "dtype: float64"
      ]
     },
     "execution_count": 18,
     "metadata": {},
     "output_type": "execute_result"
    }
   ],
   "source": [
    "s.fillna(s.mean(), inplace = False)"
   ]
  }
 ],
 "metadata": {
  "kernelspec": {
   "display_name": "Python 3 (ipykernel)",
   "language": "python",
   "name": "python3"
  },
  "language_info": {
   "codemirror_mode": {
    "name": "ipython",
    "version": 3
   },
   "file_extension": ".py",
   "mimetype": "text/x-python",
   "name": "python",
   "nbconvert_exporter": "python",
   "pygments_lexer": "ipython3",
   "version": "3.9.13"
  }
 },
 "nbformat": 4,
 "nbformat_minor": 5
}
