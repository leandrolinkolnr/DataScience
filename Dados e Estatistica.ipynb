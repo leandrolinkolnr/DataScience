{
 "cells": [
  {
   "cell_type": "markdown",
   "id": "5d38c51d",
   "metadata": {},
   "source": [
    "# Dados e Estatistica"
   ]
  },
  {
   "cell_type": "code",
   "execution_count": 17,
   "id": "6837bab2",
   "metadata": {},
   "outputs": [],
   "source": [
    "import pandas as pd\n",
    "import seaborn as sns\n",
    "import matplotlib.pyplot as plt\n",
    "import numpy as np"
   ]
  },
  {
   "cell_type": "code",
   "execution_count": 18,
   "id": "a617faaa",
   "metadata": {},
   "outputs": [
    {
     "data": {
      "text/html": [
       "<div>\n",
       "<style scoped>\n",
       "    .dataframe tbody tr th:only-of-type {\n",
       "        vertical-align: middle;\n",
       "    }\n",
       "\n",
       "    .dataframe tbody tr th {\n",
       "        vertical-align: top;\n",
       "    }\n",
       "\n",
       "    .dataframe thead th {\n",
       "        text-align: right;\n",
       "    }\n",
       "</style>\n",
       "<table border=\"1\" class=\"dataframe\">\n",
       "  <thead>\n",
       "    <tr style=\"text-align: right;\">\n",
       "      <th></th>\n",
       "      <th>userId</th>\n",
       "      <th>movieId</th>\n",
       "      <th>rating</th>\n",
       "      <th>timestamp</th>\n",
       "    </tr>\n",
       "  </thead>\n",
       "  <tbody>\n",
       "    <tr>\n",
       "      <th>0</th>\n",
       "      <td>1</td>\n",
       "      <td>1</td>\n",
       "      <td>4.0</td>\n",
       "      <td>964982703</td>\n",
       "    </tr>\n",
       "    <tr>\n",
       "      <th>1</th>\n",
       "      <td>1</td>\n",
       "      <td>3</td>\n",
       "      <td>4.0</td>\n",
       "      <td>964981247</td>\n",
       "    </tr>\n",
       "    <tr>\n",
       "      <th>2</th>\n",
       "      <td>1</td>\n",
       "      <td>6</td>\n",
       "      <td>4.0</td>\n",
       "      <td>964982224</td>\n",
       "    </tr>\n",
       "    <tr>\n",
       "      <th>3</th>\n",
       "      <td>1</td>\n",
       "      <td>47</td>\n",
       "      <td>5.0</td>\n",
       "      <td>964983815</td>\n",
       "    </tr>\n",
       "    <tr>\n",
       "      <th>4</th>\n",
       "      <td>1</td>\n",
       "      <td>50</td>\n",
       "      <td>5.0</td>\n",
       "      <td>964982931</td>\n",
       "    </tr>\n",
       "  </tbody>\n",
       "</table>\n",
       "</div>"
      ],
      "text/plain": [
       "   userId  movieId  rating  timestamp\n",
       "0       1        1     4.0  964982703\n",
       "1       1        3     4.0  964981247\n",
       "2       1        6     4.0  964982224\n",
       "3       1       47     5.0  964983815\n",
       "4       1       50     5.0  964982931"
      ]
     },
     "execution_count": 18,
     "metadata": {},
     "output_type": "execute_result"
    }
   ],
   "source": [
    "notas = pd.read_csv(\"./Arquivos/ratings.csv\")\n",
    "notas.head()"
   ]
  },
  {
   "cell_type": "markdown",
   "id": "29f56159",
   "metadata": {},
   "source": [
    "## Media avaliação dos filmes "
   ]
  },
  {
   "cell_type": "code",
   "execution_count": 15,
   "id": "41cda230",
   "metadata": {},
   "outputs": [
    {
     "name": "stdout",
     "output_type": "stream",
     "text": [
      "Media do filme Toy Story: 3.92 \n",
      "Media do filme Jumamji: 3.43 \n"
     ]
    }
   ],
   "source": [
    "notas_toy_story = notas.query(\"movieId == 1\")\n",
    "notas_jumanji = notas.query(\"movieId == 2\")\n",
    "print(\"Media do filme Toy Story: %.2f \" %  notas_toy_story.rating.mean())\n",
    "print(\"Media do filme Jumamji: %.2f \" %  notas_jumanji.rating.mean())"
   ]
  },
  {
   "cell_type": "markdown",
   "id": "80327d69",
   "metadata": {},
   "source": [
    "## Mediana avaliação dos filmes  "
   ]
  },
  {
   "cell_type": "code",
   "execution_count": 16,
   "id": "40167ad7",
   "metadata": {},
   "outputs": [
    {
     "name": "stdout",
     "output_type": "stream",
     "text": [
      "Media do filme Toy Story: 4.00 \n",
      "Media do filme Jumamji: 3.50 \n"
     ]
    }
   ],
   "source": [
    "print(\"Media do filme Toy Story: %.2f \" %  notas_toy_story.rating.median())\n",
    "print(\"Media do filme Jumamji: %.2f \" %  notas_jumanji.rating.median())"
   ]
  },
  {
   "cell_type": "markdown",
   "id": "aa23580b",
   "metadata": {},
   "source": [
    "## Desvio padrão "
   ]
  },
  {
   "cell_type": "code",
   "execution_count": 19,
   "id": "793a6844",
   "metadata": {},
   "outputs": [
    {
     "name": "stdout",
     "output_type": "stream",
     "text": [
      "Desvio padrao do filme Toy Story: 0.83 \n",
      "Desvio padrao do filme Jumamji: 0.88 \n"
     ]
    }
   ],
   "source": [
    "print(\"Desvio padrao do filme Toy Story: %.2f \" %  notas_toy_story.rating.std())\n",
    "print(\"Desvio padrao do filme Jumamji: %.2f \" %  notas_jumanji.rating.std())"
   ]
  }
 ],
 "metadata": {
  "kernelspec": {
   "display_name": "Python 3 (ipykernel)",
   "language": "python",
   "name": "python3"
  },
  "language_info": {
   "codemirror_mode": {
    "name": "ipython",
    "version": 3
   },
   "file_extension": ".py",
   "mimetype": "text/x-python",
   "name": "python",
   "nbconvert_exporter": "python",
   "pygments_lexer": "ipython3",
   "version": "3.9.13"
  }
 },
 "nbformat": 4,
 "nbformat_minor": 5
}
